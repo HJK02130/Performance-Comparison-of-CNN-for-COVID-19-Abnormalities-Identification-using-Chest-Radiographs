{
  "cells": [
    {
      "cell_type": "code",
      "execution_count": null,
      "id": "dc01df21-8019-444a-b95f-0f95f68c06ad",
      "metadata": {
        "id": "dc01df21-8019-444a-b95f-0f95f68c06ad"
      },
      "outputs": [],
      "source": [
        "import numpy as np\n",
        "import pandas as pd"
      ]
    },
    {
      "cell_type": "code",
      "execution_count": null,
      "id": "9c523a78-0b25-4025-b56a-e2eda6937e74",
      "metadata": {
        "id": "9c523a78-0b25-4025-b56a-e2eda6937e74"
      },
      "outputs": [],
      "source": [
        "image_csv_path = '/tf/0.DATA/train_image_level.csv'\n",
        "study_csv_path = '/tf/0.DATA/train_study_level.csv'\n",
        "\n",
        "image_csv = pd.read_csv(image_csv_path)\n",
        "study_csv = pd.read_csv(study_csv_path)"
      ]
    },
    {
      "cell_type": "code",
      "execution_count": null,
      "id": "bf33557a-09f0-4bbc-b663-1e3113d922fb",
      "metadata": {
        "id": "bf33557a-09f0-4bbc-b663-1e3113d922fb",
        "outputId": "d874e593-1f00-4535-bd9e-9511c0c82cab"
      },
      "outputs": [
        {
          "name": "stdout",
          "output_type": "stream",
          "text": [
            "(6334, 4)\n",
            "(6054, 5)\n"
          ]
        }
      ],
      "source": [
        "print(image_csv.shape)\n",
        "print(study_csv.shape)"
      ]
    },
    {
      "cell_type": "code",
      "execution_count": null,
      "id": "a871a6ee-a154-43b8-acd0-9d1521969ff2",
      "metadata": {
        "id": "a871a6ee-a154-43b8-acd0-9d1521969ff2"
      },
      "outputs": [],
      "source": [
        "# image 304개 날림\n",
        "for i in range(len(image_csv)):\n",
        "    try:\n",
        "        image_data = image_csv.loc[i]\n",
        "    except:\n",
        "        print(i)\n",
        "        break\n",
        "    UID = image_data['StudyInstanceUID']\n",
        "    \n",
        "    query_st = UID + '_study'\n",
        "    study_data = study_csv.query(\"id==@query_st\")\n",
        "    \n",
        "    # boxes column이 float(nan)인지 확인\n",
        "    if isinstance(image_data['boxes'], float):\n",
        "        image_state = 0 # negative\n",
        "    else:\n",
        "        image_state = 1 # positive\n",
        "        \n",
        "    if study_data['Negative for Pneumonia'].values[0] == 1:\n",
        "        study_state = 0 # negative\n",
        "    else:\n",
        "        study_state = 1 # positive\n",
        "    \n",
        "    \n",
        "    if study_state ^ image_state == 1:\n",
        "        image_csv = image_csv.drop(i)"
      ]
    },
    {
      "cell_type": "code",
      "execution_count": null,
      "id": "b06bd61c-ffaa-4a2c-8850-77e20da7296c",
      "metadata": {
        "id": "b06bd61c-ffaa-4a2c-8850-77e20da7296c",
        "outputId": "e601e22e-5fe4-4eba-ad84-57c55598d76a"
      },
      "outputs": [
        {
          "data": {
            "text/html": [
              "<div>\n",
              "<style scoped>\n",
              "    .dataframe tbody tr th:only-of-type {\n",
              "        vertical-align: middle;\n",
              "    }\n",
              "\n",
              "    .dataframe tbody tr th {\n",
              "        vertical-align: top;\n",
              "    }\n",
              "\n",
              "    .dataframe thead th {\n",
              "        text-align: right;\n",
              "    }\n",
              "</style>\n",
              "<table border=\"1\" class=\"dataframe\">\n",
              "  <thead>\n",
              "    <tr style=\"text-align: right;\">\n",
              "      <th></th>\n",
              "      <th>index</th>\n",
              "      <th>id</th>\n",
              "      <th>boxes</th>\n",
              "      <th>label</th>\n",
              "      <th>StudyInstanceUID</th>\n",
              "    </tr>\n",
              "  </thead>\n",
              "  <tbody>\n",
              "    <tr>\n",
              "      <th>0</th>\n",
              "      <td>0</td>\n",
              "      <td>000a312787f2_image</td>\n",
              "      <td>[{'x': 789.28836, 'y': 582.43035, 'width': 102...</td>\n",
              "      <td>opacity 1 789.28836 582.43035 1815.94498 2499....</td>\n",
              "      <td>5776db0cec75</td>\n",
              "    </tr>\n",
              "    <tr>\n",
              "      <th>1</th>\n",
              "      <td>1</td>\n",
              "      <td>000c3a3f293f_image</td>\n",
              "      <td>NaN</td>\n",
              "      <td>none 1 0 0 1 1</td>\n",
              "      <td>ff0879eb20ed</td>\n",
              "    </tr>\n",
              "    <tr>\n",
              "      <th>2</th>\n",
              "      <td>2</td>\n",
              "      <td>0012ff7358bc_image</td>\n",
              "      <td>[{'x': 677.42216, 'y': 197.97662, 'width': 867...</td>\n",
              "      <td>opacity 1 677.42216 197.97662 1545.21983 1197....</td>\n",
              "      <td>9d514ce429a7</td>\n",
              "    </tr>\n",
              "    <tr>\n",
              "      <th>3</th>\n",
              "      <td>3</td>\n",
              "      <td>001398f4ff4f_image</td>\n",
              "      <td>[{'x': 2729, 'y': 2181.33331, 'width': 948.000...</td>\n",
              "      <td>opacity 1 2729 2181.33331 3677.00012 2785.33331</td>\n",
              "      <td>28dddc8559b2</td>\n",
              "    </tr>\n",
              "    <tr>\n",
              "      <th>4</th>\n",
              "      <td>4</td>\n",
              "      <td>001bd15d1891_image</td>\n",
              "      <td>[{'x': 623.23328, 'y': 1050, 'width': 714, 'he...</td>\n",
              "      <td>opacity 1 623.23328 1050 1337.23328 2156 opaci...</td>\n",
              "      <td>dfd9fdd85a3e</td>\n",
              "    </tr>\n",
              "    <tr>\n",
              "      <th>...</th>\n",
              "      <td>...</td>\n",
              "      <td>...</td>\n",
              "      <td>...</td>\n",
              "      <td>...</td>\n",
              "      <td>...</td>\n",
              "    </tr>\n",
              "    <tr>\n",
              "      <th>6025</th>\n",
              "      <td>6329</td>\n",
              "      <td>ffcc6edd9445_image</td>\n",
              "      <td>NaN</td>\n",
              "      <td>none 1 0 0 1 1</td>\n",
              "      <td>7e6c68462e06</td>\n",
              "    </tr>\n",
              "    <tr>\n",
              "      <th>6026</th>\n",
              "      <td>6330</td>\n",
              "      <td>ffd91a2c4ca0_image</td>\n",
              "      <td>NaN</td>\n",
              "      <td>none 1 0 0 1 1</td>\n",
              "      <td>8332bdaddb6e</td>\n",
              "    </tr>\n",
              "    <tr>\n",
              "      <th>6027</th>\n",
              "      <td>6331</td>\n",
              "      <td>ffd9b6cf2961_image</td>\n",
              "      <td>[{'x': 2197.38566, 'y': 841.07361, 'width': 31...</td>\n",
              "      <td>opacity 1 2197.38566 841.07361 2513.80265 1292...</td>\n",
              "      <td>7eed9af03814</td>\n",
              "    </tr>\n",
              "    <tr>\n",
              "      <th>6028</th>\n",
              "      <td>6332</td>\n",
              "      <td>ffdc682f7680_image</td>\n",
              "      <td>[{'x': 2729.27083, 'y': 332.26044, 'width': 14...</td>\n",
              "      <td>opacity 1 2729.27083 332.26044 4225.52099 2936...</td>\n",
              "      <td>a0cb0b96fb3d</td>\n",
              "    </tr>\n",
              "    <tr>\n",
              "      <th>6029</th>\n",
              "      <td>6333</td>\n",
              "      <td>ffe942c8655f_image</td>\n",
              "      <td>[{'x': 208.86463, 'y': 91.53448, 'width': 450....</td>\n",
              "      <td>opacity 1 208.86463 91.53448 659.8321 719.5892...</td>\n",
              "      <td>7d82d53204b8</td>\n",
              "    </tr>\n",
              "  </tbody>\n",
              "</table>\n",
              "<p>6030 rows × 5 columns</p>\n",
              "</div>"
            ],
            "text/plain": [
              "      index                  id  \\\n",
              "0         0  000a312787f2_image   \n",
              "1         1  000c3a3f293f_image   \n",
              "2         2  0012ff7358bc_image   \n",
              "3         3  001398f4ff4f_image   \n",
              "4         4  001bd15d1891_image   \n",
              "...     ...                 ...   \n",
              "6025   6329  ffcc6edd9445_image   \n",
              "6026   6330  ffd91a2c4ca0_image   \n",
              "6027   6331  ffd9b6cf2961_image   \n",
              "6028   6332  ffdc682f7680_image   \n",
              "6029   6333  ffe942c8655f_image   \n",
              "\n",
              "                                                  boxes  \\\n",
              "0     [{'x': 789.28836, 'y': 582.43035, 'width': 102...   \n",
              "1                                                   NaN   \n",
              "2     [{'x': 677.42216, 'y': 197.97662, 'width': 867...   \n",
              "3     [{'x': 2729, 'y': 2181.33331, 'width': 948.000...   \n",
              "4     [{'x': 623.23328, 'y': 1050, 'width': 714, 'he...   \n",
              "...                                                 ...   \n",
              "6025                                                NaN   \n",
              "6026                                                NaN   \n",
              "6027  [{'x': 2197.38566, 'y': 841.07361, 'width': 31...   \n",
              "6028  [{'x': 2729.27083, 'y': 332.26044, 'width': 14...   \n",
              "6029  [{'x': 208.86463, 'y': 91.53448, 'width': 450....   \n",
              "\n",
              "                                                  label StudyInstanceUID  \n",
              "0     opacity 1 789.28836 582.43035 1815.94498 2499....     5776db0cec75  \n",
              "1                                        none 1 0 0 1 1     ff0879eb20ed  \n",
              "2     opacity 1 677.42216 197.97662 1545.21983 1197....     9d514ce429a7  \n",
              "3       opacity 1 2729 2181.33331 3677.00012 2785.33331     28dddc8559b2  \n",
              "4     opacity 1 623.23328 1050 1337.23328 2156 opaci...     dfd9fdd85a3e  \n",
              "...                                                 ...              ...  \n",
              "6025                                     none 1 0 0 1 1     7e6c68462e06  \n",
              "6026                                     none 1 0 0 1 1     8332bdaddb6e  \n",
              "6027  opacity 1 2197.38566 841.07361 2513.80265 1292...     7eed9af03814  \n",
              "6028  opacity 1 2729.27083 332.26044 4225.52099 2936...     a0cb0b96fb3d  \n",
              "6029  opacity 1 208.86463 91.53448 659.8321 719.5892...     7d82d53204b8  \n",
              "\n",
              "[6030 rows x 5 columns]"
            ]
          },
          "execution_count": 5,
          "metadata": {},
          "output_type": "execute_result"
        }
      ],
      "source": [
        "image_csv.reset_index(drop=True, inplace=True)"
      ]
    },
    {
      "cell_type": "code",
      "execution_count": null,
      "id": "95e9dc49-8303-4c33-b68d-a5b48f2284c1",
      "metadata": {
        "id": "95e9dc49-8303-4c33-b68d-a5b48f2284c1",
        "outputId": "7d8cf365-0be8-4678-ebfa-c1594c139460"
      },
      "outputs": [
        {
          "name": "stdout",
          "output_type": "stream",
          "text": [
            "(5970, 5)\n"
          ]
        }
      ],
      "source": [
        "# study 중에 매칭되는 image가 전부 삭제되어 없는 경우 study도 삭제\n",
        "# study 84개 날림\n",
        "for i in range(len(study_csv)):\n",
        "    study_data = study_csv.loc[i]\n",
        "    query_st = study_data['id'].split('_')[0]\n",
        "    \n",
        "    image_data = image_csv.query(\"StudyInstanceUID==@query_st\")\n",
        "    if image_data.empty:\n",
        "        study_csv = study_csv.drop(i)\n",
        "print(study_csv.shape)"
      ]
    },
    {
      "cell_type": "code",
      "execution_count": null,
      "id": "68dcf9cd-9950-4dc0-95d0-330686bfb611",
      "metadata": {
        "id": "68dcf9cd-9950-4dc0-95d0-330686bfb611",
        "outputId": "f42502a4-8d05-483b-d3aa-5d2fb884a84e"
      },
      "outputs": [
        {
          "name": "stdout",
          "output_type": "stream",
          "text": [
            "5970\n",
            "5970\n"
          ]
        }
      ],
      "source": [
        "print(study_csv['id'].nunique())\n",
        "print(image_csv['StudyInstanceUID'].nunique())"
      ]
    },
    {
      "cell_type": "code",
      "execution_count": null,
      "id": "8802e8b1-3fda-4d3c-80ca-da1ab85d3193",
      "metadata": {
        "id": "8802e8b1-3fda-4d3c-80ca-da1ab85d3193",
        "outputId": "198246fe-0a61-450b-86be-a63889e2f876"
      },
      "outputs": [
        {
          "data": {
            "text/html": [
              "<div>\n",
              "<style scoped>\n",
              "    .dataframe tbody tr th:only-of-type {\n",
              "        vertical-align: middle;\n",
              "    }\n",
              "\n",
              "    .dataframe tbody tr th {\n",
              "        vertical-align: top;\n",
              "    }\n",
              "\n",
              "    .dataframe thead th {\n",
              "        text-align: right;\n",
              "    }\n",
              "</style>\n",
              "<table border=\"1\" class=\"dataframe\">\n",
              "  <thead>\n",
              "    <tr style=\"text-align: right;\">\n",
              "      <th></th>\n",
              "      <th>id</th>\n",
              "      <th>Negative for Pneumonia</th>\n",
              "      <th>Typical Appearance</th>\n",
              "      <th>Indeterminate Appearance</th>\n",
              "      <th>Atypical Appearance</th>\n",
              "    </tr>\n",
              "  </thead>\n",
              "  <tbody>\n",
              "    <tr>\n",
              "      <th>0</th>\n",
              "      <td>00086460a852_study</td>\n",
              "      <td>0</td>\n",
              "      <td>1</td>\n",
              "      <td>0</td>\n",
              "      <td>0</td>\n",
              "    </tr>\n",
              "    <tr>\n",
              "      <th>2</th>\n",
              "      <td>00292f8c37bd_study</td>\n",
              "      <td>1</td>\n",
              "      <td>0</td>\n",
              "      <td>0</td>\n",
              "      <td>0</td>\n",
              "    </tr>\n",
              "    <tr>\n",
              "      <th>3</th>\n",
              "      <td>005057b3f880_study</td>\n",
              "      <td>1</td>\n",
              "      <td>0</td>\n",
              "      <td>0</td>\n",
              "      <td>0</td>\n",
              "    </tr>\n",
              "    <tr>\n",
              "      <th>4</th>\n",
              "      <td>0051d9b12e72_study</td>\n",
              "      <td>0</td>\n",
              "      <td>0</td>\n",
              "      <td>0</td>\n",
              "      <td>1</td>\n",
              "    </tr>\n",
              "    <tr>\n",
              "      <th>5</th>\n",
              "      <td>00792b5c8852_study</td>\n",
              "      <td>1</td>\n",
              "      <td>0</td>\n",
              "      <td>0</td>\n",
              "      <td>0</td>\n",
              "    </tr>\n",
              "  </tbody>\n",
              "</table>\n",
              "</div>"
            ],
            "text/plain": [
              "                   id  Negative for Pneumonia  Typical Appearance  \\\n",
              "0  00086460a852_study                       0                   1   \n",
              "2  00292f8c37bd_study                       1                   0   \n",
              "3  005057b3f880_study                       1                   0   \n",
              "4  0051d9b12e72_study                       0                   0   \n",
              "5  00792b5c8852_study                       1                   0   \n",
              "\n",
              "   Indeterminate Appearance  Atypical Appearance  \n",
              "0                         0                    0  \n",
              "2                         0                    0  \n",
              "3                         0                    0  \n",
              "4                         0                    1  \n",
              "5                         0                    0  "
            ]
          },
          "execution_count": 18,
          "metadata": {},
          "output_type": "execute_result"
        }
      ],
      "source": [
        "study_csv.head()"
      ]
    },
    {
      "cell_type": "code",
      "execution_count": null,
      "id": "eb85c243-4148-4093-aae2-1bcb59bbb479",
      "metadata": {
        "id": "eb85c243-4148-4093-aae2-1bcb59bbb479",
        "outputId": "a0cb76ce-8d7e-49bc-97b3-cf2181b6b22e"
      },
      "outputs": [
        {
          "data": {
            "text/plain": [
              "id                          00086460a852_study00292f8c37bd_study005057b3f8...\n",
              "Negative for Pneumonia                                                   1676\n",
              "Typical Appearance                                                       2854\n",
              "Indeterminate Appearance                                                 1049\n",
              "Atypical Appearance                                                       391\n",
              "dtype: object"
            ]
          },
          "execution_count": 23,
          "metadata": {},
          "output_type": "execute_result"
        }
      ],
      "source": [
        "study_csv.sum()"
      ]
    },
    {
      "cell_type": "code",
      "execution_count": null,
      "id": "7a3b261c-1af7-4533-8726-b09ac574406d",
      "metadata": {
        "id": "7a3b261c-1af7-4533-8726-b09ac574406d"
      },
      "outputs": [],
      "source": [
        "study_csv.reset_index(drop=True, inplace=True)"
      ]
    },
    {
      "cell_type": "code",
      "execution_count": null,
      "id": "3f06059b-8364-4b8c-8646-d06acf98a014",
      "metadata": {
        "id": "3f06059b-8364-4b8c-8646-d06acf98a014"
      },
      "outputs": [],
      "source": [
        "# study 중에 atypical 인 study 삭제\n",
        "for i in range(len(study_csv)):\n",
        "    study_data = study_csv.loc[i]['Atypical Appearance']\n",
        "    \n",
        "    if study_data == 1:\n",
        "        study_csv = study_csv.drop(i)"
      ]
    },
    {
      "cell_type": "code",
      "execution_count": null,
      "id": "d0819895-8eb8-422a-afa2-b8c5c0646119",
      "metadata": {
        "id": "d0819895-8eb8-422a-afa2-b8c5c0646119",
        "outputId": "6dde5420-ea14-4b47-db7e-73576bc41d7d"
      },
      "outputs": [
        {
          "data": {
            "text/html": [
              "<div>\n",
              "<style scoped>\n",
              "    .dataframe tbody tr th:only-of-type {\n",
              "        vertical-align: middle;\n",
              "    }\n",
              "\n",
              "    .dataframe tbody tr th {\n",
              "        vertical-align: top;\n",
              "    }\n",
              "\n",
              "    .dataframe thead th {\n",
              "        text-align: right;\n",
              "    }\n",
              "</style>\n",
              "<table border=\"1\" class=\"dataframe\">\n",
              "  <thead>\n",
              "    <tr style=\"text-align: right;\">\n",
              "      <th></th>\n",
              "      <th>id</th>\n",
              "      <th>Negative for Pneumonia</th>\n",
              "      <th>Typical Appearance</th>\n",
              "      <th>Indeterminate Appearance</th>\n",
              "      <th>Atypical Appearance</th>\n",
              "    </tr>\n",
              "  </thead>\n",
              "  <tbody>\n",
              "    <tr>\n",
              "      <th>0</th>\n",
              "      <td>00086460a852_study</td>\n",
              "      <td>0</td>\n",
              "      <td>1</td>\n",
              "      <td>0</td>\n",
              "      <td>0</td>\n",
              "    </tr>\n",
              "    <tr>\n",
              "      <th>1</th>\n",
              "      <td>00292f8c37bd_study</td>\n",
              "      <td>1</td>\n",
              "      <td>0</td>\n",
              "      <td>0</td>\n",
              "      <td>0</td>\n",
              "    </tr>\n",
              "    <tr>\n",
              "      <th>2</th>\n",
              "      <td>005057b3f880_study</td>\n",
              "      <td>1</td>\n",
              "      <td>0</td>\n",
              "      <td>0</td>\n",
              "      <td>0</td>\n",
              "    </tr>\n",
              "    <tr>\n",
              "      <th>4</th>\n",
              "      <td>00792b5c8852_study</td>\n",
              "      <td>1</td>\n",
              "      <td>0</td>\n",
              "      <td>0</td>\n",
              "      <td>0</td>\n",
              "    </tr>\n",
              "    <tr>\n",
              "      <th>5</th>\n",
              "      <td>00908ffd2d08_study</td>\n",
              "      <td>1</td>\n",
              "      <td>0</td>\n",
              "      <td>0</td>\n",
              "      <td>0</td>\n",
              "    </tr>\n",
              "    <tr>\n",
              "      <th>...</th>\n",
              "      <td>...</td>\n",
              "      <td>...</td>\n",
              "      <td>...</td>\n",
              "      <td>...</td>\n",
              "      <td>...</td>\n",
              "    </tr>\n",
              "    <tr>\n",
              "      <th>5965</th>\n",
              "      <td>ffcb4630f46f_study</td>\n",
              "      <td>0</td>\n",
              "      <td>1</td>\n",
              "      <td>0</td>\n",
              "      <td>0</td>\n",
              "    </tr>\n",
              "    <tr>\n",
              "      <th>5966</th>\n",
              "      <td>ffe4d6e8fbb0_study</td>\n",
              "      <td>0</td>\n",
              "      <td>1</td>\n",
              "      <td>0</td>\n",
              "      <td>0</td>\n",
              "    </tr>\n",
              "    <tr>\n",
              "      <th>5967</th>\n",
              "      <td>ffe94fcb14fa_study</td>\n",
              "      <td>0</td>\n",
              "      <td>1</td>\n",
              "      <td>0</td>\n",
              "      <td>0</td>\n",
              "    </tr>\n",
              "    <tr>\n",
              "      <th>5968</th>\n",
              "      <td>ffebf1ef4a9c_study</td>\n",
              "      <td>0</td>\n",
              "      <td>1</td>\n",
              "      <td>0</td>\n",
              "      <td>0</td>\n",
              "    </tr>\n",
              "    <tr>\n",
              "      <th>5969</th>\n",
              "      <td>fff649d65f62_study</td>\n",
              "      <td>0</td>\n",
              "      <td>1</td>\n",
              "      <td>0</td>\n",
              "      <td>0</td>\n",
              "    </tr>\n",
              "  </tbody>\n",
              "</table>\n",
              "<p>5579 rows × 5 columns</p>\n",
              "</div>"
            ],
            "text/plain": [
              "                      id  Negative for Pneumonia  Typical Appearance  \\\n",
              "0     00086460a852_study                       0                   1   \n",
              "1     00292f8c37bd_study                       1                   0   \n",
              "2     005057b3f880_study                       1                   0   \n",
              "4     00792b5c8852_study                       1                   0   \n",
              "5     00908ffd2d08_study                       1                   0   \n",
              "...                  ...                     ...                 ...   \n",
              "5965  ffcb4630f46f_study                       0                   1   \n",
              "5966  ffe4d6e8fbb0_study                       0                   1   \n",
              "5967  ffe94fcb14fa_study                       0                   1   \n",
              "5968  ffebf1ef4a9c_study                       0                   1   \n",
              "5969  fff649d65f62_study                       0                   1   \n",
              "\n",
              "      Indeterminate Appearance  Atypical Appearance  \n",
              "0                            0                    0  \n",
              "1                            0                    0  \n",
              "2                            0                    0  \n",
              "4                            0                    0  \n",
              "5                            0                    0  \n",
              "...                        ...                  ...  \n",
              "5965                         0                    0  \n",
              "5966                         0                    0  \n",
              "5967                         0                    0  \n",
              "5968                         0                    0  \n",
              "5969                         0                    0  \n",
              "\n",
              "[5579 rows x 5 columns]"
            ]
          },
          "execution_count": 36,
          "metadata": {},
          "output_type": "execute_result"
        }
      ],
      "source": [
        "study_csv.reset_index(drop=True, inplace=True)"
      ]
    },
    {
      "cell_type": "code",
      "execution_count": null,
      "id": "64c18499-4b86-45df-8af0-b32a0c74e961",
      "metadata": {
        "id": "64c18499-4b86-45df-8af0-b32a0c74e961"
      },
      "outputs": [],
      "source": [
        "study_csv.to_csv('train_study_level.csv', mode='w', index=False)\n",
        "image_csv.to_csv('train_image_level.csv', mode='w', index=False)"
      ]
    }
  ],
  "metadata": {
    "kernelspec": {
      "display_name": "Python 3",
      "language": "python",
      "name": "python3"
    },
    "language_info": {
      "codemirror_mode": {
        "name": "ipython",
        "version": 3
      },
      "file_extension": ".py",
      "mimetype": "text/x-python",
      "name": "python",
      "nbconvert_exporter": "python",
      "pygments_lexer": "ipython3",
      "version": "3.8.0"
    },
    "colab": {
      "provenance": []
    }
  },
  "nbformat": 4,
  "nbformat_minor": 5
}
