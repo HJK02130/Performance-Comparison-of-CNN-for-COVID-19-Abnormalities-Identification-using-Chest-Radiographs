{
  "cells": [
    {
      "cell_type": "code",
      "execution_count": null,
      "id": "1dab3b57-55b5-4104-9840-3f34aa1d2288",
      "metadata": {
        "id": "1dab3b57-55b5-4104-9840-3f34aa1d2288"
      },
      "outputs": [],
      "source": [
        "import os\n",
        "import pandas as pd\n",
        "import numpy as np\n",
        "import pydicom\n",
        "import pylibjpeg\n",
        "import matplotlib.pyplot as plt"
      ]
    },
    {
      "cell_type": "code",
      "execution_count": null,
      "id": "d0e8a581-978d-48e4-8000-ab84cb84016e",
      "metadata": {
        "id": "d0e8a581-978d-48e4-8000-ab84cb84016e"
      },
      "outputs": [],
      "source": [
        "image_csv = pd.read_csv('./train_image_level.csv')\n",
        "study_csv = pd.read_csv('./train_study_level.csv')"
      ]
    },
    {
      "cell_type": "code",
      "execution_count": null,
      "id": "d6f5e13c-be39-416f-bc11-9f6b29d846ae",
      "metadata": {
        "tags": [],
        "id": "d6f5e13c-be39-416f-bc11-9f6b29d846ae",
        "outputId": "c1e7be14-3508-4fba-9240-1842f719db93"
      },
      "outputs": [
        {
          "name": "stdout",
          "output_type": "stream",
          "text": [
            "idx =  0\n",
            "idx =  100\n",
            "idx =  200\n",
            "idx =  300\n",
            "idx =  400\n",
            "idx =  500\n"
          ]
        },
        {
          "name": "stderr",
          "output_type": "stream",
          "text": [
            "/usr/local/lib/python3.8/dist-packages/pydicom/pixel_data_handlers/numpy_handler.py:341: UserWarning: The length of the pixel data in the dataset (13262360 bytes) indicates it contains excess padding. 216296 bytes will be removed from the end of the data\n",
            "  warnings.warn(msg)\n"
          ]
        },
        {
          "name": "stdout",
          "output_type": "stream",
          "text": [
            "idx =  600\n",
            "idx =  700\n",
            "idx =  800\n",
            "idx =  900\n",
            "idx =  1000\n",
            "idx =  1100\n",
            "idx =  1200\n",
            "idx =  1300\n",
            "idx =  1400\n",
            "idx =  1500\n",
            "idx =  1600\n",
            "idx =  1700\n",
            "idx =  1800\n",
            "idx =  1900\n",
            "idx =  2000\n",
            "idx =  2100\n",
            "idx =  2200\n",
            "idx =  2300\n",
            "idx =  2400\n",
            "idx =  2500\n",
            "idx =  2600\n",
            "idx =  2700\n",
            "idx =  2800\n",
            "idx =  2900\n",
            "idx =  3000\n",
            "idx =  3100\n",
            "idx =  3200\n",
            "idx =  3300\n",
            "idx =  3400\n",
            "idx =  3500\n",
            "idx =  3600\n",
            "idx =  3700\n",
            "idx =  3800\n",
            "idx =  3900\n",
            "idx =  4000\n",
            "idx =  4100\n",
            "idx =  4200\n",
            "idx =  4300\n",
            "idx =  4400\n",
            "idx =  4500\n",
            "idx =  4600\n",
            "idx =  4700\n",
            "idx =  4800\n",
            "idx =  4900\n",
            "idx =  5000\n",
            "idx =  5100\n",
            "idx =  5200\n",
            "idx =  5300\n",
            "idx =  5400\n",
            "idx =  5500\n"
          ]
        }
      ],
      "source": [
        "base_path = '/tf/0.DATA/train'\n",
        "image_save_path = '/tf/0.DATA/data/images'\n",
        "\n",
        "for i in range(len(study_csv)):\n",
        "    study_data = study_csv.iloc[i]\n",
        "    study_id = study_data['id'].split('_')[0]\n",
        "    \n",
        "    image_data = image_csv.query('StudyInstanceUID==@study_id')\n",
        "    \n",
        "    for j in range(len(image_data)):\n",
        "        image_datum = image_data.iloc[j]\n",
        "        image_id = image_datum['id'].split('_')[0]\n",
        "        \n",
        "        for (root, dirs, files) in os.walk(os.path.join(base_path, study_id)):\n",
        "            if image_id+'.dcm' in files:\n",
        "                image_path = os.path.join(root, image_id+'.dcm')\n",
        "            \n",
        "                dicom = pydicom.dcmread(image_path)\n",
        "                dicom_image = dicom.pixel_array\n",
        "            \n",
        "                save_path = os.path.join(image_save_path, image_id)\n",
        "                np.save(save_path, dicom_image)\n",
        "\n",
        "    if i % 100 == 0:\n",
        "        print('idx = ', i)"
      ]
    },
    {
      "cell_type": "code",
      "execution_count": null,
      "id": "ddf3e955-1f39-493c-bf4b-fc9b2692b4da",
      "metadata": {
        "id": "ddf3e955-1f39-493c-bf4b-fc9b2692b4da",
        "outputId": "69839c85-db75-4ee4-c361-ed1a8e867358"
      },
      "outputs": [
        {
          "data": {
            "text/plain": [
              "5640"
            ]
          },
          "execution_count": 41,
          "metadata": {},
          "output_type": "execute_result"
        }
      ],
      "source": [
        "len(os.listdir(image_save_path))"
      ]
    },
    {
      "cell_type": "code",
      "execution_count": null,
      "id": "6e64e1bf-47d3-4189-961f-43fc3353daca",
      "metadata": {
        "id": "6e64e1bf-47d3-4189-961f-43fc3353daca"
      },
      "outputs": [],
      "source": [
        "# make train/test/validation csv file\n",
        "# 총 study : 5579\n",
        "# train study : 3719\n",
        "# val study : 930\n",
        "# test study : 930\n",
        "\n",
        "# csv column\n",
        "# img path, negative, typical, indeterminate"
      ]
    },
    {
      "cell_type": "code",
      "execution_count": null,
      "id": "54563001-c7ae-40b8-a95a-82461a488b15",
      "metadata": {
        "id": "54563001-c7ae-40b8-a95a-82461a488b15"
      },
      "outputs": [],
      "source": [
        "train_num = 3719\n",
        "val_num = 930\n",
        "test_num = 930\n",
        "\n",
        "idx = np.arange(len(study_csv))\n",
        "np.random.shuffle(idx)\n",
        "\n",
        "train_idx = idx[0:train_num]\n",
        "val_idx = idx[train_num:train_num+val_num]\n",
        "test_idx = idx[train_num+val_num:len(study_csv)]\n",
        "\n",
        "train_df = pd.DataFrame(columns=['image_id', 'study_id', 'negative', 'typical', 'indeterminate'])\n",
        "val_df = pd.DataFrame(columns=['image_id', 'study_id', 'negative', 'typical', 'indeterminate'])\n",
        "test_df = pd.DataFrame(columns=['image_id', 'study_id', 'negative', 'typical', 'indeterminate'])\n",
        "\n",
        "for i in range(len(train_idx)):\n",
        "    study_data = study_csv.iloc[train_idx[i]]\n",
        "    study_id = study_data['id'].split('_')[0]\n",
        "    \n",
        "    negative = study_data['Negative for Pneumonia']\n",
        "    typical = study_data['Typical Appearance']\n",
        "    indeterminate = study_data['Indeterminate Appearance']\n",
        "    \n",
        "    image_data = image_csv.query('StudyInstanceUID==@study_id')\n",
        "    for j in range(len(image_data)):\n",
        "        image_datum = image_data.iloc[j]\n",
        "        image_id = image_datum['id'].split('_')[0]\n",
        "        \n",
        "        tmp_dic = {'image_id':image_id,\n",
        "                  'study_id':study_id,\n",
        "                  'negative':negative,\n",
        "                  'typical':typical,\n",
        "                  'indeterminate':indeterminate}\n",
        "        tmp_df = pd.DataFrame([tmp_dic])\n",
        "        train_df = pd.concat([train_df, tmp_df])\n",
        "        \n",
        "        \n",
        "        \n",
        "for i in range(len(val_idx)):\n",
        "    study_data = study_csv.iloc[val_idx[i]]\n",
        "    study_id = study_data['id'].split('_')[0]\n",
        "    \n",
        "    negative = study_data['Negative for Pneumonia']\n",
        "    typical = study_data['Typical Appearance']\n",
        "    indeterminate = study_data['Indeterminate Appearance']\n",
        "    \n",
        "    image_data = image_csv.query('StudyInstanceUID==@study_id')\n",
        "    for j in range(len(image_data)):\n",
        "        image_datum = image_data.iloc[j]\n",
        "        image_id = image_datum['id'].split('_')[0]\n",
        "        \n",
        "        tmp_dic = {'image_id':image_id,\n",
        "                  'study_id':study_id,\n",
        "                  'negative':negative,\n",
        "                  'typical':typical,\n",
        "                  'indeterminate':indeterminate}\n",
        "        tmp_df = pd.DataFrame([tmp_dic])\n",
        "        val_df = pd.concat([val_df, tmp_df])\n",
        "        \n",
        "        \n",
        "        \n",
        "for i in range(len(test_idx)):\n",
        "    study_data = study_csv.iloc[test_idx[i]]\n",
        "    study_id = study_data['id'].split('_')[0]\n",
        "    \n",
        "    negative = study_data['Negative for Pneumonia']\n",
        "    typical = study_data['Typical Appearance']\n",
        "    indeterminate = study_data['Indeterminate Appearance']\n",
        "    \n",
        "    image_data = image_csv.query('StudyInstanceUID==@study_id')\n",
        "    for j in range(len(image_data)):\n",
        "        image_datum = image_data.iloc[j]\n",
        "        image_id = image_datum['id'].split('_')[0]\n",
        "        \n",
        "        tmp_dic = {'image_id':image_id,\n",
        "                  'study_id':study_id,\n",
        "                  'negative':negative,\n",
        "                  'typical':typical,\n",
        "                  'indeterminate':indeterminate}\n",
        "        tmp_df = pd.DataFrame([tmp_dic])\n",
        "        test_df = pd.concat([test_df, tmp_df])"
      ]
    },
    {
      "cell_type": "code",
      "execution_count": null,
      "id": "7ee029cc-2a84-4ad2-951a-3ac1a9817175",
      "metadata": {
        "id": "7ee029cc-2a84-4ad2-951a-3ac1a9817175",
        "outputId": "379ca557-d3ea-4370-d57f-9017ee0039f6"
      },
      "outputs": [
        {
          "name": "stdout",
          "output_type": "stream",
          "text": [
            "3719\n",
            "930\n",
            "930\n"
          ]
        }
      ],
      "source": [
        "print(train_df['study_id'].nunique())\n",
        "print(val_df['study_id'].nunique())\n",
        "print(test_df['study_id'].nunique())"
      ]
    },
    {
      "cell_type": "code",
      "execution_count": null,
      "id": "6b6a237b-c8a8-44d6-bc40-7d8ba5630d97",
      "metadata": {
        "id": "6b6a237b-c8a8-44d6-bc40-7d8ba5630d97"
      },
      "outputs": [],
      "source": [
        "train_df.to_csv('train.csv', index=False)\n",
        "val_df.to_csv('val.csv', index=False)\n",
        "test_df.to_csv('test.csv', index=False)"
      ]
    },
    {
      "cell_type": "code",
      "execution_count": null,
      "id": "b7f35de8-e048-4e4a-af38-d96dbe6b13da",
      "metadata": {
        "id": "b7f35de8-e048-4e4a-af38-d96dbe6b13da",
        "outputId": "917206cf-1ae2-42b5-862e-f5269ce9d082"
      },
      "outputs": [
        {
          "data": {
            "text/html": [
              "<div>\n",
              "<style scoped>\n",
              "    .dataframe tbody tr th:only-of-type {\n",
              "        vertical-align: middle;\n",
              "    }\n",
              "\n",
              "    .dataframe tbody tr th {\n",
              "        vertical-align: top;\n",
              "    }\n",
              "\n",
              "    .dataframe thead th {\n",
              "        text-align: right;\n",
              "    }\n",
              "</style>\n",
              "<table border=\"1\" class=\"dataframe\">\n",
              "  <thead>\n",
              "    <tr style=\"text-align: right;\">\n",
              "      <th></th>\n",
              "      <th>image_id</th>\n",
              "      <th>study_id</th>\n",
              "      <th>negative</th>\n",
              "      <th>typical</th>\n",
              "      <th>indeterminate</th>\n",
              "    </tr>\n",
              "  </thead>\n",
              "  <tbody>\n",
              "    <tr>\n",
              "      <th>0</th>\n",
              "      <td>6467d3eedf66</td>\n",
              "      <td>f4f5bbdf7a00</td>\n",
              "      <td>0</td>\n",
              "      <td>1</td>\n",
              "      <td>0</td>\n",
              "    </tr>\n",
              "    <tr>\n",
              "      <th>1</th>\n",
              "      <td>a19658675c6d</td>\n",
              "      <td>f9b47fe9bcb5</td>\n",
              "      <td>0</td>\n",
              "      <td>1</td>\n",
              "      <td>0</td>\n",
              "    </tr>\n",
              "    <tr>\n",
              "      <th>2</th>\n",
              "      <td>e7c3f21a9b8b</td>\n",
              "      <td>4a761d73927a</td>\n",
              "      <td>0</td>\n",
              "      <td>1</td>\n",
              "      <td>0</td>\n",
              "    </tr>\n",
              "    <tr>\n",
              "      <th>3</th>\n",
              "      <td>78165504b671</td>\n",
              "      <td>1bc9965d033b</td>\n",
              "      <td>1</td>\n",
              "      <td>0</td>\n",
              "      <td>0</td>\n",
              "    </tr>\n",
              "    <tr>\n",
              "      <th>4</th>\n",
              "      <td>cfc1a9fed40d</td>\n",
              "      <td>316a5c0840f2</td>\n",
              "      <td>0</td>\n",
              "      <td>0</td>\n",
              "      <td>1</td>\n",
              "    </tr>\n",
              "    <tr>\n",
              "      <th>...</th>\n",
              "      <td>...</td>\n",
              "      <td>...</td>\n",
              "      <td>...</td>\n",
              "      <td>...</td>\n",
              "      <td>...</td>\n",
              "    </tr>\n",
              "    <tr>\n",
              "      <th>3758</th>\n",
              "      <td>bac1d41a0a43</td>\n",
              "      <td>3795c5ddd545</td>\n",
              "      <td>1</td>\n",
              "      <td>0</td>\n",
              "      <td>0</td>\n",
              "    </tr>\n",
              "    <tr>\n",
              "      <th>3759</th>\n",
              "      <td>dc5f5313b1b7</td>\n",
              "      <td>dc7ddcf65b4c</td>\n",
              "      <td>0</td>\n",
              "      <td>1</td>\n",
              "      <td>0</td>\n",
              "    </tr>\n",
              "    <tr>\n",
              "      <th>3760</th>\n",
              "      <td>329172d2a7eb</td>\n",
              "      <td>9f1a9ff51098</td>\n",
              "      <td>0</td>\n",
              "      <td>0</td>\n",
              "      <td>1</td>\n",
              "    </tr>\n",
              "    <tr>\n",
              "      <th>3761</th>\n",
              "      <td>1f3aaf44de73</td>\n",
              "      <td>ccb8df9dddce</td>\n",
              "      <td>0</td>\n",
              "      <td>1</td>\n",
              "      <td>0</td>\n",
              "    </tr>\n",
              "    <tr>\n",
              "      <th>3762</th>\n",
              "      <td>36adbbd65ff4</td>\n",
              "      <td>8716e2d245fd</td>\n",
              "      <td>0</td>\n",
              "      <td>1</td>\n",
              "      <td>0</td>\n",
              "    </tr>\n",
              "  </tbody>\n",
              "</table>\n",
              "<p>3763 rows × 5 columns</p>\n",
              "</div>"
            ],
            "text/plain": [
              "          image_id      study_id  negative  typical  indeterminate\n",
              "0     6467d3eedf66  f4f5bbdf7a00         0        1              0\n",
              "1     a19658675c6d  f9b47fe9bcb5         0        1              0\n",
              "2     e7c3f21a9b8b  4a761d73927a         0        1              0\n",
              "3     78165504b671  1bc9965d033b         1        0              0\n",
              "4     cfc1a9fed40d  316a5c0840f2         0        0              1\n",
              "...            ...           ...       ...      ...            ...\n",
              "3758  bac1d41a0a43  3795c5ddd545         1        0              0\n",
              "3759  dc5f5313b1b7  dc7ddcf65b4c         0        1              0\n",
              "3760  329172d2a7eb  9f1a9ff51098         0        0              1\n",
              "3761  1f3aaf44de73  ccb8df9dddce         0        1              0\n",
              "3762  36adbbd65ff4  8716e2d245fd         0        1              0\n",
              "\n",
              "[3763 rows x 5 columns]"
            ]
          },
          "execution_count": 88,
          "metadata": {},
          "output_type": "execute_result"
        }
      ],
      "source": [
        "check = pd.read_csv('./train.csv')\n",
        "check"
      ]
    }
  ],
  "metadata": {
    "kernelspec": {
      "display_name": "Python 3",
      "language": "python",
      "name": "python3"
    },
    "language_info": {
      "codemirror_mode": {
        "name": "ipython",
        "version": 3
      },
      "file_extension": ".py",
      "mimetype": "text/x-python",
      "name": "python",
      "nbconvert_exporter": "python",
      "pygments_lexer": "ipython3",
      "version": "3.8.0"
    },
    "colab": {
      "provenance": []
    }
  },
  "nbformat": 4,
  "nbformat_minor": 5
}
