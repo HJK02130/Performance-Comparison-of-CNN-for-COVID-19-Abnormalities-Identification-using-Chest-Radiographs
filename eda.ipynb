{
  "cells": [
    {
      "cell_type": "code",
      "execution_count": null,
      "id": "c059efd9-2bf0-4b2a-aeb3-49f30f02a2fa",
      "metadata": {
        "id": "c059efd9-2bf0-4b2a-aeb3-49f30f02a2fa"
      },
      "outputs": [],
      "source": [
        "import os\n",
        "import numpy as np\n",
        "import pandas as pd\n",
        "import pydicom\n",
        "import matplotlib.pyplot as plt"
      ]
    },
    {
      "cell_type": "code",
      "execution_count": null,
      "id": "4b75adcc-97ee-429e-b165-594540ad88d4",
      "metadata": {
        "id": "4b75adcc-97ee-429e-b165-594540ad88d4"
      },
      "outputs": [],
      "source": [
        "image_csv_path = '/tf/0.DATA/train_image_level.csv'\n",
        "study_csv_path = '/tf/0.DATA/train_study_level.csv'"
      ]
    },
    {
      "cell_type": "code",
      "execution_count": null,
      "id": "ea100104-6770-4dbf-9443-8abaaebd4b43",
      "metadata": {
        "id": "ea100104-6770-4dbf-9443-8abaaebd4b43",
        "outputId": "e5b5eca3-0856-4600-acd8-5aea15da8eca"
      },
      "outputs": [
        {
          "name": "stdout",
          "output_type": "stream",
          "text": [
            "6054\n",
            "6334\n"
          ]
        }
      ],
      "source": [
        "image_csv = pd.read_csv(image_csv_path)\n",
        "study_csv = pd.read_csv(study_csv_path)\n",
        "\n",
        "print(len(study_csv))\n",
        "print(len(image_csv))"
      ]
    },
    {
      "cell_type": "code",
      "execution_count": null,
      "id": "44b22b75-c4b6-4430-a861-2761d983849a",
      "metadata": {
        "id": "44b22b75-c4b6-4430-a861-2761d983849a",
        "outputId": "ddd5f8e9-ce84-435e-e459-71a8019034a4"
      },
      "outputs": [
        {
          "data": {
            "text/html": [
              "<div>\n",
              "<style scoped>\n",
              "    .dataframe tbody tr th:only-of-type {\n",
              "        vertical-align: middle;\n",
              "    }\n",
              "\n",
              "    .dataframe tbody tr th {\n",
              "        vertical-align: top;\n",
              "    }\n",
              "\n",
              "    .dataframe thead th {\n",
              "        text-align: right;\n",
              "    }\n",
              "</style>\n",
              "<table border=\"1\" class=\"dataframe\">\n",
              "  <thead>\n",
              "    <tr style=\"text-align: right;\">\n",
              "      <th></th>\n",
              "      <th>id</th>\n",
              "      <th>Negative for Pneumonia</th>\n",
              "      <th>Typical Appearance</th>\n",
              "      <th>Indeterminate Appearance</th>\n",
              "      <th>Atypical Appearance</th>\n",
              "    </tr>\n",
              "  </thead>\n",
              "  <tbody>\n",
              "    <tr>\n",
              "      <th>0</th>\n",
              "      <td>00086460a852_study</td>\n",
              "      <td>0</td>\n",
              "      <td>1</td>\n",
              "      <td>0</td>\n",
              "      <td>0</td>\n",
              "    </tr>\n",
              "    <tr>\n",
              "      <th>1</th>\n",
              "      <td>000c9c05fd14_study</td>\n",
              "      <td>0</td>\n",
              "      <td>0</td>\n",
              "      <td>0</td>\n",
              "      <td>1</td>\n",
              "    </tr>\n",
              "    <tr>\n",
              "      <th>2</th>\n",
              "      <td>00292f8c37bd_study</td>\n",
              "      <td>1</td>\n",
              "      <td>0</td>\n",
              "      <td>0</td>\n",
              "      <td>0</td>\n",
              "    </tr>\n",
              "    <tr>\n",
              "      <th>3</th>\n",
              "      <td>005057b3f880_study</td>\n",
              "      <td>1</td>\n",
              "      <td>0</td>\n",
              "      <td>0</td>\n",
              "      <td>0</td>\n",
              "    </tr>\n",
              "    <tr>\n",
              "      <th>4</th>\n",
              "      <td>0051d9b12e72_study</td>\n",
              "      <td>0</td>\n",
              "      <td>0</td>\n",
              "      <td>0</td>\n",
              "      <td>1</td>\n",
              "    </tr>\n",
              "  </tbody>\n",
              "</table>\n",
              "</div>"
            ],
            "text/plain": [
              "                   id  Negative for Pneumonia  Typical Appearance  \\\n",
              "0  00086460a852_study                       0                   1   \n",
              "1  000c9c05fd14_study                       0                   0   \n",
              "2  00292f8c37bd_study                       1                   0   \n",
              "3  005057b3f880_study                       1                   0   \n",
              "4  0051d9b12e72_study                       0                   0   \n",
              "\n",
              "   Indeterminate Appearance  Atypical Appearance  \n",
              "0                         0                    0  \n",
              "1                         0                    1  \n",
              "2                         0                    0  \n",
              "3                         0                    0  \n",
              "4                         0                    1  "
            ]
          },
          "execution_count": 4,
          "metadata": {},
          "output_type": "execute_result"
        }
      ],
      "source": [
        "study_csv.head()"
      ]
    },
    {
      "cell_type": "code",
      "execution_count": null,
      "id": "24693e85-0144-4eae-a90d-14d46e60650d",
      "metadata": {
        "id": "24693e85-0144-4eae-a90d-14d46e60650d",
        "outputId": "4d920d83-3226-4aa5-c315-d4717380c9f1"
      },
      "outputs": [
        {
          "data": {
            "text/html": [
              "<div>\n",
              "<style scoped>\n",
              "    .dataframe tbody tr th:only-of-type {\n",
              "        vertical-align: middle;\n",
              "    }\n",
              "\n",
              "    .dataframe tbody tr th {\n",
              "        vertical-align: top;\n",
              "    }\n",
              "\n",
              "    .dataframe thead th {\n",
              "        text-align: right;\n",
              "    }\n",
              "</style>\n",
              "<table border=\"1\" class=\"dataframe\">\n",
              "  <thead>\n",
              "    <tr style=\"text-align: right;\">\n",
              "      <th></th>\n",
              "      <th>id</th>\n",
              "      <th>boxes</th>\n",
              "      <th>label</th>\n",
              "      <th>StudyInstanceUID</th>\n",
              "    </tr>\n",
              "  </thead>\n",
              "  <tbody>\n",
              "    <tr>\n",
              "      <th>0</th>\n",
              "      <td>000a312787f2_image</td>\n",
              "      <td>[{'x': 789.28836, 'y': 582.43035, 'width': 102...</td>\n",
              "      <td>opacity 1 789.28836 582.43035 1815.94498 2499....</td>\n",
              "      <td>5776db0cec75</td>\n",
              "    </tr>\n",
              "    <tr>\n",
              "      <th>1</th>\n",
              "      <td>000c3a3f293f_image</td>\n",
              "      <td>NaN</td>\n",
              "      <td>none 1 0 0 1 1</td>\n",
              "      <td>ff0879eb20ed</td>\n",
              "    </tr>\n",
              "    <tr>\n",
              "      <th>2</th>\n",
              "      <td>0012ff7358bc_image</td>\n",
              "      <td>[{'x': 677.42216, 'y': 197.97662, 'width': 867...</td>\n",
              "      <td>opacity 1 677.42216 197.97662 1545.21983 1197....</td>\n",
              "      <td>9d514ce429a7</td>\n",
              "    </tr>\n",
              "    <tr>\n",
              "      <th>3</th>\n",
              "      <td>001398f4ff4f_image</td>\n",
              "      <td>[{'x': 2729, 'y': 2181.33331, 'width': 948.000...</td>\n",
              "      <td>opacity 1 2729 2181.33331 3677.00012 2785.33331</td>\n",
              "      <td>28dddc8559b2</td>\n",
              "    </tr>\n",
              "    <tr>\n",
              "      <th>4</th>\n",
              "      <td>001bd15d1891_image</td>\n",
              "      <td>[{'x': 623.23328, 'y': 1050, 'width': 714, 'he...</td>\n",
              "      <td>opacity 1 623.23328 1050 1337.23328 2156 opaci...</td>\n",
              "      <td>dfd9fdd85a3e</td>\n",
              "    </tr>\n",
              "  </tbody>\n",
              "</table>\n",
              "</div>"
            ],
            "text/plain": [
              "                   id                                              boxes  \\\n",
              "0  000a312787f2_image  [{'x': 789.28836, 'y': 582.43035, 'width': 102...   \n",
              "1  000c3a3f293f_image                                                NaN   \n",
              "2  0012ff7358bc_image  [{'x': 677.42216, 'y': 197.97662, 'width': 867...   \n",
              "3  001398f4ff4f_image  [{'x': 2729, 'y': 2181.33331, 'width': 948.000...   \n",
              "4  001bd15d1891_image  [{'x': 623.23328, 'y': 1050, 'width': 714, 'he...   \n",
              "\n",
              "                                               label StudyInstanceUID  \n",
              "0  opacity 1 789.28836 582.43035 1815.94498 2499....     5776db0cec75  \n",
              "1                                     none 1 0 0 1 1     ff0879eb20ed  \n",
              "2  opacity 1 677.42216 197.97662 1545.21983 1197....     9d514ce429a7  \n",
              "3    opacity 1 2729 2181.33331 3677.00012 2785.33331     28dddc8559b2  \n",
              "4  opacity 1 623.23328 1050 1337.23328 2156 opaci...     dfd9fdd85a3e  "
            ]
          },
          "execution_count": 5,
          "metadata": {},
          "output_type": "execute_result"
        }
      ],
      "source": [
        "image_csv.head()"
      ]
    },
    {
      "cell_type": "code",
      "execution_count": null,
      "id": "ececa037-c527-4a97-9d38-42a66a436b5d",
      "metadata": {
        "id": "ececa037-c527-4a97-9d38-42a66a436b5d",
        "outputId": "941661b1-f62d-45cb-8ade-bd6d0cd73806"
      },
      "outputs": [
        {
          "data": {
            "text/plain": [
              "False    6054\n",
              "dtype: int64"
            ]
          },
          "execution_count": 6,
          "metadata": {},
          "output_type": "execute_result"
        }
      ],
      "source": [
        "study_csv.duplicated(['id'], keep=False).value_counts()"
      ]
    },
    {
      "cell_type": "code",
      "execution_count": null,
      "id": "b5012d3f-a01f-4451-b620-49a171d9fd65",
      "metadata": {
        "id": "b5012d3f-a01f-4451-b620-49a171d9fd65",
        "outputId": "810f2ff9-c402-4c9f-8cf8-459a8813e469"
      },
      "outputs": [
        {
          "data": {
            "text/plain": [
              "False    5822\n",
              "True      512\n",
              "dtype: int64"
            ]
          },
          "execution_count": 7,
          "metadata": {},
          "output_type": "execute_result"
        }
      ],
      "source": [
        "image_csv.duplicated(['StudyInstanceUID'], keep=False).value_counts()"
      ]
    },
    {
      "cell_type": "code",
      "execution_count": null,
      "id": "16b9f955-f479-4190-90e6-0344d67ec5ff",
      "metadata": {
        "id": "16b9f955-f479-4190-90e6-0344d67ec5ff"
      },
      "outputs": [],
      "source": [
        "# study의 id와 image의 studyinstanceuid가 매칭됨"
      ]
    },
    {
      "cell_type": "code",
      "execution_count": null,
      "id": "6c416c74-19e8-4e42-908b-7a0480219cd0",
      "metadata": {
        "id": "6c416c74-19e8-4e42-908b-7a0480219cd0",
        "outputId": "63d5175a-3b92-4308-d6d1-d3588ee1daec"
      },
      "outputs": [
        {
          "name": "stdout",
          "output_type": "stream",
          "text": [
            "id                          3bbcfe7bb63b_study\n",
            "Negative for Pneumonia                       0\n",
            "Typical Appearance                           1\n",
            "Indeterminate Appearance                     0\n",
            "Atypical Appearance                          0\n",
            "Name: 1414, dtype: object\n",
            "====================================\n",
            "3bbcfe7bb63b\n",
            "====================================\n",
            "                      id                                              boxes  \\\n",
            "1521  3e1444e88d6a_image  [{'x': 388.98669, 'y': 1221.86667, 'width': 95...   \n",
            "\n",
            "                                                  label StudyInstanceUID  \n",
            "1521  opacity 1 388.98669 1221.86667 1340.18669 1983...     3bbcfe7bb63b  \n",
            "====================================\n",
            "3e1444e88d6a\n"
          ]
        }
      ],
      "source": [
        "idx = np.random.randint(len(study_csv))\n",
        "\n",
        "study_data = study_csv.iloc[idx]\n",
        "query_st = study_data['id']\n",
        "query_st = query_st.split('_')[0]\n",
        "\n",
        "image_data = image_csv.query(\"StudyInstanceUID == @query_st\")\n",
        "image_name = image_data['id'].values[0].split('_')[0]\n",
        "\n",
        "print(study_data)\n",
        "print('====================================')\n",
        "print(query_st)\n",
        "print('====================================')\n",
        "print(image_data)\n",
        "print('====================================')\n",
        "print(image_name)"
      ]
    },
    {
      "cell_type": "code",
      "execution_count": null,
      "id": "d8b35ca9-6482-40c1-8bed-1140fdfe8d40",
      "metadata": {
        "id": "d8b35ca9-6482-40c1-8bed-1140fdfe8d40"
      },
      "outputs": [],
      "source": [
        "n = os.listdir('/tf/0.DATA/train/'+query_st)[0]\n",
        "\n",
        "dicom_path = '/tf/0.DATA/train/' + query_st + '/' + n + '/' + image_name + '.dcm'\n",
        "dcm = pydicom.dcmread(dicom_path)"
      ]
    },
    {
      "cell_type": "code",
      "execution_count": null,
      "id": "24b60bf2-5f9b-45b5-935d-ece44e6a18bc",
      "metadata": {
        "id": "24b60bf2-5f9b-45b5-935d-ece44e6a18bc",
        "outputId": "fb9b1dc8-a521-410d-88f7-8510b121354d"
      },
      "outputs": [
        {
          "data": {
            "text/plain": [
              "Dataset.file_meta -------------------------------\n",
              "(0002, 0002) Media Storage SOP Class UID         UI: Computed Radiography Image Storage\n",
              "(0002, 0003) Media Storage SOP Instance UID      UI: 1.2.840.113654.2.70.1.103777240732461648603395955748281466826\n",
              "(0002, 0010) Transfer Syntax UID                 UI: Explicit VR Little Endian\n",
              "-------------------------------------------------\n",
              "(0008, 0005) Specific Character Set              CS: 'ISO_IR 100'\n",
              "(0008, 0008) Image Type                          CS: ['ORIGINAL', 'PRIMARY']\n",
              "(0008, 0016) SOP Class UID                       UI: 03a65300fa41\n",
              "(0008, 0018) SOP Instance UID                    UI: 3e1444e88d6a\n",
              "(0008, 0020) Study Date                          DA: '8d2657d32869'\n",
              "(0008, 0030) Study Time                          TM: '6abbc3914348'\n",
              "(0008, 0050) Accession Number                    SH: '0a26341bf1ab'\n",
              "(0008, 0060) Modality                            CS: 'CR'\n",
              "(0010, 0010) Patient's Name                      PN: '940b245fb9cf'\n",
              "(0010, 0020) Patient ID                          LO: '2cdc4fd15a6a'\n",
              "(0010, 0040) Patient's Sex                       CS: 'M'\n",
              "(0012, 0063) De-identification Method            LO: 'CTP Default:  based on DICOM PS3.15 AnnexE. Details in 0012,0064'\n",
              "(0012, 0064)  De-identification Method Code Sequence  6 item(s) ---- \n",
              "   (0008, 0100) Code Value                          SH: '113100'\n",
              "   (0008, 0102) Coding Scheme Designator            SH: 'DCM'\n",
              "   (0008, 0104) Code Meaning                        LO: 'Basic Application Confidentiality Profile'\n",
              "   ---------\n",
              "   (0008, 0100) Code Value                          SH: '113105'\n",
              "   (0008, 0102) Coding Scheme Designator            SH: 'DCM'\n",
              "   (0008, 0104) Code Meaning                        LO: 'Clean Descriptors Option'\n",
              "   ---------\n",
              "   (0008, 0100) Code Value                          SH: '113107'\n",
              "   (0008, 0102) Coding Scheme Designator            SH: 'DCM'\n",
              "   (0008, 0104) Code Meaning                        LO: 'Retain Longitudinal Temporal Information Modified Dates Option'\n",
              "   ---------\n",
              "   (0008, 0100) Code Value                          SH: '113108'\n",
              "   (0008, 0102) Coding Scheme Designator            SH: 'DCM'\n",
              "   (0008, 0104) Code Meaning                        LO: 'Retain Patient Characteristics Option'\n",
              "   ---------\n",
              "   (0008, 0100) Code Value                          SH: '113109'\n",
              "   (0008, 0102) Coding Scheme Designator            SH: 'DCM'\n",
              "   (0008, 0104) Code Meaning                        LO: 'Retain Device Identity Option'\n",
              "   ---------\n",
              "   (0008, 0100) Code Value                          SH: '11'\n",
              "   (0008, 0102) Coding Scheme Designator            SH: 'XNAT'\n",
              "   (0008, 0103) Coding Scheme Version               SH: '1.0'\n",
              "   (0008, 0104) Code Meaning                        LO: 'XNAT DicomEdit 4 Script'\n",
              "   ---------\n",
              "(0018, 0015) Body Part Examined                  CS: 'CHEST'\n",
              "(0018, 1164) Imager Pixel Spacing                DS: [0.15, 0.15]\n",
              "(0020, 000d) Study Instance UID                  UI: 3bbcfe7bb63b\n",
              "(0020, 000e) Series Instance UID                 UI: 44bad62f8a93\n",
              "(0020, 0010) Study ID                            SH: '55625fb42f3f'\n",
              "(0020, 0011) Series Number                       IS: \"1\"\n",
              "(0020, 0013) Instance Number                     IS: \"1\"\n",
              "(0028, 0002) Samples per Pixel                   US: 1\n",
              "(0028, 0004) Photometric Interpretation          CS: 'MONOCHROME2'\n",
              "(0028, 0010) Rows                                US: 2320\n",
              "(0028, 0011) Columns                             US: 2832\n",
              "(0028, 0100) Bits Allocated                      US: 16\n",
              "(0028, 0101) Bits Stored                         US: 12\n",
              "(0028, 0102) High Bit                            US: 11\n",
              "(0028, 0103) Pixel Representation                US: 0\n",
              "(7fe0, 0010) Pixel Data                          OW: Array of 13140480 elements"
            ]
          },
          "execution_count": 11,
          "metadata": {},
          "output_type": "execute_result"
        }
      ],
      "source": [
        "dcm"
      ]
    },
    {
      "cell_type": "code",
      "execution_count": null,
      "id": "c01bbfcb-c64b-4601-87f6-b0cefbcca00b",
      "metadata": {
        "id": "c01bbfcb-c64b-4601-87f6-b0cefbcca00b",
        "outputId": "f7ad52e9-2ce4-4c9d-90c3-71ded3e0d846"
      },
      "outputs": [
        {
          "name": "stdout",
          "output_type": "stream",
          "text": [
            "3e1444e88d6a\n",
            "3bbcfe7bb63b\n"
          ]
        }
      ],
      "source": [
        "print(dcm.SOPInstanceUID) # image.csv의 id\n",
        "print(dcm.StudyInstanceUID) # study.csv의 id"
      ]
    },
    {
      "cell_type": "code",
      "execution_count": null,
      "id": "2fecdb29-3beb-4a69-9350-18b851f55e19",
      "metadata": {
        "id": "2fecdb29-3beb-4a69-9350-18b851f55e19",
        "outputId": "623102d5-87d4-4c4d-b408-ad6aecc42304"
      },
      "outputs": [
        {
          "name": "stdout",
          "output_type": "stream",
          "text": [
            "(2320, 2832)\n"
          ]
        },
        {
          "data": {
            "image/png": "[encoded data removed]",
            "text/plain": [
              "<Figure size 432x288 with 1 Axes>"
            ]
          },
          "metadata": {
            "needs_background": "light"
          },
          "output_type": "display_data"
        }
      ],
      "source": [
        "image = dcm.pixel_array\n",
        "plt.imshow(image, cmap='gray')\n",
        "print(image.shape)"
      ]
    },
    {
      "cell_type": "code",
      "execution_count": null,
      "id": "4a168e8f-1e70-419a-8236-3272d736d75e",
      "metadata": {
        "tags": [],
        "id": "4a168e8f-1e70-419a-8236-3272d736d75e",
        "outputId": "316dbbc2-92de-4392-f0fd-e0fd53aa80f0"
      },
      "outputs": [
        {
          "name": "stdout",
          "output_type": "stream",
          "text": [
            "['opacity', '1', '388.98669', '1221.86667', '1340.18669', '1983.6000000000001', 'opacity', '1', '1730.72002', '1229.6', '2728.32014', '2118.93333']\n"
          ]
        },
        {
          "data": {
            "image/png": "[encoded data removed]",
            "text/plain": [
              "<Figure size 432x288 with 1 Axes>"
            ]
          },
          "metadata": {
            "needs_background": "light"
          },
          "output_type": "display_data"
        }
      ],
      "source": [
        "plt.imshow(image, cmap='gray')\n",
        "\n",
        "label = image_data['label'].values[0]\n",
        "label = label.split(\" \")\n",
        "print(label)\n",
        "\n",
        "for i in range(int(len(label) / 6)):\n",
        "    x = float(label[i*6+2])\n",
        "    y = float(label[i*6+3])\n",
        "    dunno1 = float(label[i*6+4])\n",
        "    dunno2 = float(label[i*6+5]    )\n",
        "    \n",
        "    plt.scatter(x, y, color='r')\n",
        "    plt.scatter(dunno1, dunno2, color='b')"
      ]
    },
    {
      "cell_type": "code",
      "execution_count": null,
      "id": "ee7241ad-d7bf-41a8-a5a1-1c813e95857f",
      "metadata": {
        "id": "ee7241ad-d7bf-41a8-a5a1-1c813e95857f",
        "outputId": "4724a842-ac78-428e-d314-0386362bae93"
      },
      "outputs": [
        {
          "name": "stdout",
          "output_type": "stream",
          "text": [
            "positive\n"
          ]
        }
      ],
      "source": [
        "if (study_data['Negative for Pneumonia']) == 1:\n",
        "    print('negative')\n",
        "else:\n",
        "    print('positive')"
      ]
    },
    {
      "cell_type": "code",
      "execution_count": null,
      "id": "458941d3-5de2-4258-a7e9-6725b059ae81",
      "metadata": {
        "id": "458941d3-5de2-4258-a7e9-6725b059ae81"
      },
      "outputs": [],
      "source": [
        "## ===================================================================="
      ]
    },
    {
      "cell_type": "code",
      "execution_count": null,
      "id": "19ad6ee1-3097-456d-bec4-67100ab2d619",
      "metadata": {
        "id": "19ad6ee1-3097-456d-bec4-67100ab2d619"
      },
      "outputs": [],
      "source": [
        "# negative / positive 비율 check"
      ]
    },
    {
      "cell_type": "code",
      "execution_count": null,
      "id": "c8133cb0-4f64-4df5-b9d1-c4fbc82cea36",
      "metadata": {
        "id": "c8133cb0-4f64-4df5-b9d1-c4fbc82cea36",
        "outputId": "655640aa-d051-49d8-d419-8739134d30a0"
      },
      "outputs": [
        {
          "data": {
            "text/plain": [
              "id                          6054\n",
              "Negative for Pneumonia      6054\n",
              "Typical Appearance          6054\n",
              "Indeterminate Appearance    6054\n",
              "Atypical Appearance         6054\n",
              "dtype: int64"
            ]
          },
          "execution_count": 18,
          "metadata": {},
          "output_type": "execute_result"
        }
      ],
      "source": [
        "study_csv.count()"
      ]
    },
    {
      "cell_type": "code",
      "execution_count": null,
      "id": "a3d4524f-13f3-4032-970a-b9141ce5cb05",
      "metadata": {
        "id": "a3d4524f-13f3-4032-970a-b9141ce5cb05",
        "outputId": "8676acd0-7fd9-43b4-a3b0-65dd93e45f52"
      },
      "outputs": [
        {
          "data": {
            "text/plain": [
              "id                          0\n",
              "Negative for Pneumonia      0\n",
              "Typical Appearance          0\n",
              "Indeterminate Appearance    0\n",
              "Atypical Appearance         0\n",
              "dtype: int64"
            ]
          },
          "execution_count": 19,
          "metadata": {},
          "output_type": "execute_result"
        }
      ],
      "source": [
        "study_csv.isnull().sum()"
      ]
    },
    {
      "cell_type": "code",
      "execution_count": null,
      "id": "8cbc230d-8ee0-4444-9db7-97dcdefafd82",
      "metadata": {
        "id": "8cbc230d-8ee0-4444-9db7-97dcdefafd82",
        "outputId": "1e525304-ac72-4d76-b111-b54725e1698f"
      },
      "outputs": [
        {
          "data": {
            "text/plain": [
              "id                          0\n",
              "Negative for Pneumonia      0\n",
              "Typical Appearance          0\n",
              "Indeterminate Appearance    0\n",
              "Atypical Appearance         0\n",
              "dtype: int64"
            ]
          },
          "execution_count": 20,
          "metadata": {},
          "output_type": "execute_result"
        }
      ],
      "source": [
        "study_csv.isna().sum()"
      ]
    },
    {
      "cell_type": "code",
      "execution_count": null,
      "id": "9f92af54-5be7-4843-bd30-d206bac7c4e5",
      "metadata": {
        "id": "9f92af54-5be7-4843-bd30-d206bac7c4e5",
        "outputId": "527d0dd0-3c2f-45dc-d338-950e9b4d600e"
      },
      "outputs": [
        {
          "data": {
            "text/plain": [
              "id                          00086460a852_study000c9c05fd14_study00292f8c37...\n",
              "Negative for Pneumonia                                                   1676\n",
              "Typical Appearance                                                       2855\n",
              "Indeterminate Appearance                                                 1049\n",
              "Atypical Appearance                                                       474\n",
              "dtype: object"
            ]
          },
          "execution_count": 21,
          "metadata": {},
          "output_type": "execute_result"
        }
      ],
      "source": [
        "study_csv.sum()"
      ]
    },
    {
      "cell_type": "code",
      "execution_count": null,
      "id": "46982c00-7eb6-4706-8dff-3578521ec943",
      "metadata": {
        "id": "46982c00-7eb6-4706-8dff-3578521ec943",
        "outputId": "fcfe223a-4e4d-43af-8907-fcb67637edda"
      },
      "outputs": [
        {
          "data": {
            "text/plain": [
              "0    4378\n",
              "1    1676\n",
              "Name: Negative for Pneumonia, dtype: int64"
            ]
          },
          "execution_count": 22,
          "metadata": {},
          "output_type": "execute_result"
        }
      ],
      "source": [
        "study_csv['Negative for Pneumonia'].value_counts()\n",
        "# 1 : nagetive\n",
        "# 0 : positive"
      ]
    },
    {
      "cell_type": "code",
      "execution_count": null,
      "id": "ccd50f70-a6ca-4d5a-9579-d73a5e15e50e",
      "metadata": {
        "id": "ccd50f70-a6ca-4d5a-9579-d73a5e15e50e",
        "outputId": "6fbf8e6f-3c17-415e-8a45-a7d35752fd05"
      },
      "outputs": [
        {
          "data": {
            "text/plain": [
              "id                  6334\n",
              "boxes               4294\n",
              "label               6334\n",
              "StudyInstanceUID    6334\n",
              "dtype: int64"
            ]
          },
          "execution_count": 23,
          "metadata": {},
          "output_type": "execute_result"
        }
      ],
      "source": [
        "image_csv.count()"
      ]
    },
    {
      "cell_type": "code",
      "execution_count": null,
      "id": "43047851-ae34-43c0-b9fc-8e96b25c280e",
      "metadata": {
        "id": "43047851-ae34-43c0-b9fc-8e96b25c280e",
        "outputId": "bc87180c-30e0-432d-9ad9-d31f7143a4b3"
      },
      "outputs": [
        {
          "data": {
            "text/plain": [
              "id                     0\n",
              "boxes               2040\n",
              "label                  0\n",
              "StudyInstanceUID       0\n",
              "dtype: int64"
            ]
          },
          "execution_count": 24,
          "metadata": {},
          "output_type": "execute_result"
        }
      ],
      "source": [
        "image_csv.isnull().sum()"
      ]
    },
    {
      "cell_type": "code",
      "execution_count": null,
      "id": "e1d1e37e-dc97-44f8-ab90-0a27e7592c39",
      "metadata": {
        "id": "e1d1e37e-dc97-44f8-ab90-0a27e7592c39",
        "outputId": "e879e4c8-c6c3-4adf-e317-275aeaafc1be"
      },
      "outputs": [
        {
          "data": {
            "text/plain": [
              "'\\nnegative study : 1676 > image : 2040\\npositive study : 4378 > image : 4294\\n\\npositive study 중 이미지는 negative로 분류되거나 그 반대 경우가 존재\\nstudy 중 이미지가 없는 경우도 존재할 듯\\ndata imbalance\\n'"
            ]
          },
          "execution_count": 25,
          "metadata": {},
          "output_type": "execute_result"
        }
      ],
      "source": [
        "'''\n",
        "negative study : 1676 > image : 2040\n",
        "positive study : 4378 > image : 4294\n",
        "\n",
        "positive study 중 이미지는 negative로 분류되거나 그 반대 경우가 존재\n",
        "study 중 이미지가 없는 경우도 존재할 듯\n",
        "data imbalance\n",
        "'''"
      ]
    },
    {
      "cell_type": "code",
      "execution_count": null,
      "id": "93b781f6-9b52-4854-aff8-1b4e43b75c22",
      "metadata": {
        "id": "93b781f6-9b52-4854-aff8-1b4e43b75c22",
        "outputId": "0977a591-bd67-4861-99bc-66aa3b469297"
      },
      "outputs": [
        {
          "name": "stdout",
          "output_type": "stream",
          "text": [
            "id                          000c9c05fd14_study\n",
            "Negative for Pneumonia                       0\n",
            "Typical Appearance                           0\n",
            "Indeterminate Appearance                     0\n",
            "Atypical Appearance                          1\n",
            "Name: 1, dtype: object\n",
            "-------------------------\n",
            "                      id boxes           label StudyInstanceUID\n",
            "2010  51759b5579bc_image   NaN  none 1 0 0 1 1     000c9c05fd14\n"
          ]
        }
      ],
      "source": [
        "# positive study 중 이미지는 negative로 분류되었거나 negative study 중 positive image로 분류 된 경우 탐색\n",
        "\n",
        "Sum = 0\n",
        "for i in range(len(study_csv)):\n",
        "    study_data = study_csv.iloc[i]\n",
        "    \n",
        "    query_st = study_data['id'].split('_')[0]\n",
        "    image_data = image_csv.query(\"StudyInstanceUID == @query_st\")\n",
        "    \n",
        "    study_status = bool(study_data['Negative for Pneumonia']) # 0 : positive, 1 : negative\n",
        "    image_status = image_data['boxes'].isnull().values[0] # False ; positive, True : negative\n",
        "    \n",
        "    result = study_status ^ image_status # true : 두 파일에서 나온 분류 내용이 다르다 / False : 같다\n",
        "    if result:\n",
        "        Sum += 1\n",
        "        print(study_data)\n",
        "        print('-------------------------')\n",
        "        print(image_data)\n",
        "        break\n",
        "#print(Sum)"
      ]
    },
    {
      "cell_type": "code",
      "execution_count": null,
      "id": "962b87f2-c897-431c-a1fd-fd076ef884cf",
      "metadata": {
        "id": "962b87f2-c897-431c-a1fd-fd076ef884cf"
      },
      "outputs": [],
      "source": [
        "# 잘못 분류된 이미지는 뺀다"
      ]
    }
  ],
  "metadata": {
    "kernelspec": {
      "display_name": "Python 3",
      "language": "python",
      "name": "python3"
    },
    "language_info": {
      "codemirror_mode": {
        "name": "ipython",
        "version": 3
      },
      "file_extension": ".py",
      "mimetype": "text/x-python",
      "name": "python",
      "nbconvert_exporter": "python",
      "pygments_lexer": "ipython3",
      "version": "3.8.0"
    },
    "colab": {
      "provenance": []
    }
  },
  "nbformat": 4,
  "nbformat_minor": 5
}