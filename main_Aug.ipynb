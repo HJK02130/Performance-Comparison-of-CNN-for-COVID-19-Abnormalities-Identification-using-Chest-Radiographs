{
  "cells": [
    {
      "cell_type": "markdown",
      "id": "b7a18553-f740-4298-b15e-64ca9e7f64bc",
      "metadata": {
        "id": "b7a18553-f740-4298-b15e-64ca9e7f64bc"
      },
      "source": [
        "Import"
      ]
    },
    {
      "cell_type": "code",
      "execution_count": null,
      "id": "768ba32d-d440-41a4-8e9c-760f7b194a77",
      "metadata": {
        "id": "768ba32d-d440-41a4-8e9c-760f7b194a77"
      },
      "outputs": [],
      "source": [
        "import torch\n",
        "import torch.nn as nn\n",
        "import torch.nn.functional as F\n",
        "import torch.optim as optim\n",
        "from torchvision import models\n",
        "from torchvision import transforms as T\n",
        "from torch.utils.data import DataLoader\n",
        "from torch.utils.data import Dataset\n",
        "\n",
        "import cv2\n",
        "import numpy as np\n",
        "import pandas as pd\n",
        "import cv2\n",
        "import matplotlib.pyplot as plt\n",
        "import os\n",
        "import time\n",
        "\n",
        "import sklearn.metrics as metrics\n",
        "from sklearn.metrics import confusion_matrix\n",
        "import seaborn\n",
        "from jupyterthemes import jtplot\n",
        "\n",
        "os.environ['CUDA_VISIBLE_DEVICES'] = \"0, 1, 2, 3\""
      ]
    },
    {
      "cell_type": "markdown",
      "id": "f2b32112-d363-4cd8-9cef-c62f8bb583d6",
      "metadata": {
        "id": "f2b32112-d363-4cd8-9cef-c62f8bb583d6"
      },
      "source": [
        "Augmentation"
      ]
    },
    {
      "cell_type": "code",
      "execution_count": null,
      "id": "067d63b4-88f9-43fa-82a6-6cf926d0e09e",
      "metadata": {
        "id": "067d63b4-88f9-43fa-82a6-6cf926d0e09e"
      },
      "outputs": [],
      "source": [
        "def select_aug(aug_list):\n",
        "    transforms = []\n",
        "    \n",
        "    for i in aug_list:\n",
        "        if i == 'ColorJitter':\n",
        "            transforms.append(T.ColorJitter(brightness=.5, hue=.3))\n",
        "        elif i == 'GaussianBlur':\n",
        "            transforms.append(T.GaussianBlur(kernel_size = (3, 9), sigma = (0.1, 5)))\n",
        "        elif i == 'RandomCrop':\n",
        "            transforms.append(T.RandomCrop(500, 500))\n",
        "        else:\n",
        "            print('name error')\n",
        "            return\n",
        "    return T.Compose(transforms = transforms)"
      ]
    },
    {
      "cell_type": "code",
      "execution_count": null,
      "id": "360feee2-8d14-4cf7-a3fb-3da7668a5ed0",
      "metadata": {
        "id": "360feee2-8d14-4cf7-a3fb-3da7668a5ed0"
      },
      "outputs": [],
      "source": [
        "class RandomCrop(object): # 샘플 무작위 자르기\n",
        "    def __init__(self, output_size):\n",
        "        assert ifinstance(output_size, int)\n",
        "        if isinstance(output_size, int):\n",
        "            self.output_size = (output_size, output_size) # 정사각형\n",
        "        else:\n",
        "            assert len(output_size) == 2\n",
        "            self.output_size = output_size\n",
        "    \n",
        "    def __call__(self, sample):\n",
        "        image = sample\n",
        "        h, w = image.shape[:2]\n",
        "        new_h, new_w = self.output_size\n",
        "        \n",
        "        top = np.random.randint(0, h - new_h)\n",
        "        left = np.random.randint(0, w - new_w)\n",
        "        \n",
        "        image = image[top : top+new_h, left : left+new_h]\n",
        "        \n",
        "        return image"
      ]
    },
    {
      "cell_type": "markdown",
      "id": "ad3bcaae-fae5-49cc-ae97-e3aa44fe4951",
      "metadata": {
        "id": "ad3bcaae-fae5-49cc-ae97-e3aa44fe4951"
      },
      "source": [
        "Load Data"
      ]
    },
    {
      "cell_type": "code",
      "execution_count": null,
      "id": "69150e55-66e9-4c27-ba29-a61f4a6fbf47",
      "metadata": {
        "id": "69150e55-66e9-4c27-ba29-a61f4a6fbf47",
        "outputId": "5a600d0c-e6d7-4560-d0e3-817f58861c61"
      },
      "outputs": [
        {
          "data": {
            "text/plain": [
              "\"\\npath = '/tf/0.DATA/data/train.csv'\\nsize= (512, 512)\\ndataset = DCMdataset(path, size)\\nloader = DataLoader(dataset, batch_size=1, shuffle=True)\\nfor idx, sample in enumerate(loader):\\n    print(sample['image'].shape)\\n    print(sample['label'].shape)\\n    \\n    print(sample['image'])\\n    print(sample['label'])\\n    \\n    plt.imshow(sample['image'][0].permute(1, 2, 0))\\n    break\\n    \""
            ]
          },
          "execution_count": 15,
          "metadata": {},
          "output_type": "execute_result"
        }
      ],
      "source": [
        "class DCMdataset(Dataset):\n",
        "    def __init__(self, filePath, size=(512, 512), n_class=1, augment=False):\n",
        "        \n",
        "        self.dataset = pd.read_csv(filePath)\n",
        "        self.size= size\n",
        "        self.n_class = n_class\n",
        "        self.augment = augment\n",
        "        \n",
        "    def __len__(self):\n",
        "        return len(self.dataset)\n",
        "    \n",
        "    def __getitem__(self, idx):\n",
        "        data = self.dataset.iloc[idx]\n",
        "        \n",
        "        base_path = '/tf/0.DATA/data/images'\n",
        "        image_path = data['image_id']\n",
        "        \n",
        "        image = np.load(os.path.join(base_path, image_path+'.npy')).astype(np.float32)\n",
        "        image = cv2.resize(image, self.size)\n",
        "        image = image / np.max(image)\n",
        "        image = cv2.cvtColor(image, cv2.COLOR_GRAY2RGB)\n",
        "        image = torch.Tensor(image).permute(2, 0, 1)\n",
        "\n",
        "        \n",
        "        if self.n_class == 2:\n",
        "            # 0 : negative / 1 : typical / 2 : determinate\n",
        "            if data['negative'] == 1:\n",
        "                label = 0\n",
        "#             elif data['typical'] == 1:\n",
        "#                 label = 1\n",
        "#             elif data['indeterminate'] == 1:\n",
        "#                 label = 2\n",
        "        elif self.n_class == 1:\n",
        "            # 1 : positive / 0 : negative\n",
        "            if np.array(data['negative']) == 1:\n",
        "                label = torch.Tensor([0.])\n",
        "            else:\n",
        "                label = torch.Tensor([1.])\n",
        "        \n",
        "        \n",
        "        \n",
        "        sample = {'image':image, 'label':label}\n",
        "        \n",
        "#         if self.augment:\n",
        "#             sample = self.augment(**sample)\n",
        "        \n",
        "        \n",
        "        \n",
        "        return sample\n",
        "\n",
        "\n",
        "'''\n",
        "path = '/tf/0.DATA/data/train.csv'\n",
        "size= (512, 512)\n",
        "dataset = DCMdataset(path, size)\n",
        "loader = DataLoader(dataset, batch_size=1, shuffle=True)\n",
        "for idx, sample in enumerate(loader):\n",
        "    print(sample['image'].shape)\n",
        "    print(sample['label'].shape)\n",
        "    \n",
        "    print(sample['image'])\n",
        "    print(sample['label'])\n",
        "    \n",
        "    plt.imshow(sample['image'][0].permute(1, 2, 0))\n",
        "    break\n",
        "    '''"
      ]
    },
    {
      "cell_type": "markdown",
      "id": "6f2b472d-9457-4f7f-8884-95b3a743b28a",
      "metadata": {
        "id": "6f2b472d-9457-4f7f-8884-95b3a743b28a"
      },
      "source": [
        "EarlyStopping"
      ]
    },
    {
      "cell_type": "code",
      "execution_count": null,
      "id": "4e33cc86-02ef-41c9-b24c-c3fd6b9c981c",
      "metadata": {
        "id": "4e33cc86-02ef-41c9-b24c-c3fd6b9c981c"
      },
      "outputs": [],
      "source": [
        "class EarlyStopping:\n",
        "    \"\"\"Early stops the training if validation loss doesn't improve after a given patience.\"\"\"\n",
        "    def __init__(self, patience=7, verbose=False, delta=0, path='checkpoint.pt', trace_func=print):\n",
        "        \"\"\"\n",
        "        Args:\n",
        "            patience (int): How long to wait after last time validation loss improved.\n",
        "                            Default: 7\n",
        "            verbose (bool): If True, prints a message for each validation loss improvement. \n",
        "                            Default: False\n",
        "            delta (float): Minimum change in the monitored quantity to qualify as an improvement.\n",
        "                            Default: 0\n",
        "            path (str): Path for the checkpoint to be saved to.\n",
        "                            Default: 'checkpoint.pt'\n",
        "            trace_func (function): trace print function.\n",
        "                            Default: print            \n",
        "        \"\"\"\n",
        "        self.patience = patience\n",
        "        self.verbose = verbose\n",
        "        self.counter = 0\n",
        "        self.best_score = None\n",
        "        self.early_stop = False\n",
        "        self.val_loss_min = np.Inf\n",
        "        self.delta = delta\n",
        "        self.path = path\n",
        "        self.trace_func = trace_func\n",
        "    def __call__(self, val_loss):\n",
        "\n",
        "        score = -val_loss\n",
        "\n",
        "        if self.best_score is None:\n",
        "            self.best_score = score\n",
        "            self.val_loss_min = val_loss\n",
        "#             self.save_checkpoint(val_loss, model)\n",
        "        elif score < self.best_score + self.delta:\n",
        "            self.counter += 1\n",
        "            self.trace_func(f'EarlyStopping counter: {self.counter} out of {self.patience}')\n",
        "            if self.counter >= self.patience:\n",
        "                self.early_stop = True\n",
        "        else:\n",
        "            self.best_score = score\n",
        "            self.val_loss_min = val_loss\n",
        "#             self.save_checkpoint(val_loss, model)\n",
        "            self.counter = 0"
      ]
    },
    {
      "cell_type": "markdown",
      "source": [
        "Model"
      ],
      "metadata": {
        "id": "XgvId2RpfpHm"
      },
      "id": "XgvId2RpfpHm"
    },
    {
      "cell_type": "code",
      "execution_count": null,
      "id": "386405d3-012a-4fc7-96df-b703facb5e41",
      "metadata": {
        "id": "386405d3-012a-4fc7-96df-b703facb5e41",
        "outputId": "837346a9-6ea5-4c14-cd63-1d5665d36849"
      },
      "outputs": [
        {
          "data": {
            "text/plain": [
              "\"\\nn_class = 1\\nmodel = vgg(n_class)\\npath = '/tf/0.DATA/data/train.csv'\\nsize= (512, 512)\\ndataset = DCMdataset(path, size, n_class)\\nloader = DataLoader(dataset, batch_size=3, shuffle=True)\\n#cr = nn.CrossEntropyLoss()\\ncr = nn.BCELoss()\\nfor idx, sample in enumerate(loader):\\n    image = sample['image']\\n    label = sample['label']\\n    \\n    plt.imshow(image[0].permute(1, 2, 0))\\n    print('label = ', label)\\n    print('\\n')\\n    \\n    result = model(sample['image'])\\n    print('result = ', result)\\n    print('\\n')\\n    \\n    cr_result = cr(result, label)\\n    print('cr_result = ', cr_result)\\n    \\n    print(((result > 0.5) == label).sum())\\n    break\\n\""
            ]
          },
          "execution_count": 17,
          "metadata": {},
          "output_type": "execute_result"
        }
      ],
      "source": [
        "class vgg(nn.Module):\n",
        "    def __init__(self, model_num=0, n_class=1):\n",
        "        super().__init__()\n",
        "        \n",
        "        self.n_class = n_class\n",
        "        \n",
        "        # vgg19 or resnet34 or efficientnet\n",
        "        # model_num - 0 : vgg19, 1 : resnet34, else : efficientnet\n",
        "        if model_num == 0:\n",
        "            self.pretrained = models.vgg19(pretrained=True)\n",
        "        elif model_num == 1:\n",
        "            self.pretrained = models.resnet34(pretrained=True)\n",
        "        else:\n",
        "            self.pretrained = models.efficientnet_b0(pretrained=True)\n",
        "        \n",
        "        self.dense1 = nn.Linear(1000, 512)\n",
        "        self.dense2 = nn.Linear(512, self.n_class)\n",
        "        \n",
        "    def forward(self, x):\n",
        "        x = self.pretrained(x)\n",
        "        x = F.relu(self.dense1(x))\n",
        "        \n",
        "        if self.n_class == 1:\n",
        "            x = torch.sigmoid(self.dense2(x))\n",
        "        elif self.n_class == 3:\n",
        "            x = F.softmax(self.dense2(x), dim=1)\n",
        "        \n",
        "        return x\n",
        "\n",
        "'''\n",
        "n_class = 1\n",
        "model = vgg(n_class)\n",
        "path = '/tf/0.DATA/data/train.csv'\n",
        "size= (512, 512)\n",
        "dataset = DCMdataset(path, size, n_class)\n",
        "loader = DataLoader(dataset, batch_size=3, shuffle=True)\n",
        "#cr = nn.CrossEntropyLoss()\n",
        "cr = nn.BCELoss()\n",
        "for idx, sample in enumerate(loader):\n",
        "    image = sample['image']\n",
        "    label = sample['label']\n",
        "    \n",
        "    plt.imshow(image[0].permute(1, 2, 0))\n",
        "    print('label = ', label)\n",
        "    print('\\n')\n",
        "    \n",
        "    result = model(sample['image'])\n",
        "    print('result = ', result)\n",
        "    print('\\n')\n",
        "    \n",
        "    cr_result = cr(result, label)\n",
        "    print('cr_result = ', cr_result)\n",
        "    \n",
        "    print(((result > 0.5) == label).sum())\n",
        "    break\n",
        "'''"
      ]
    },
    {
      "cell_type": "markdown",
      "id": "874a4fe5-e2e9-4f2a-b452-949c978fb59a",
      "metadata": {
        "id": "874a4fe5-e2e9-4f2a-b452-949c978fb59a"
      },
      "source": [
        "Train"
      ]
    },
    {
      "cell_type": "code",
      "execution_count": null,
      "id": "b3ea539a-bb28-47e6-a5db-84d036db0f93",
      "metadata": {
        "id": "b3ea539a-bb28-47e6-a5db-84d036db0f93"
      },
      "outputs": [],
      "source": [
        "def train(tr_loader, val_loader, epochs, batch_size, param_path, model_num, n_class):\n",
        "    device = torch.device(\"cuda\" if torch.cuda.is_available() else 'cpu')\n",
        "    print('device : ', device)\n",
        "    \n",
        "    min_loss = float('inf')\n",
        "    early_stopping = EarlyStopping(patience=10)\n",
        "    \n",
        "    # model : vgg or efficientnet\n",
        "    model = vgg(model_num, n_class)\n",
        "    for param in model.pretrained.parameters():\n",
        "        param.requires_grad = False\n",
        "    \n",
        "    model = nn.DataParallel(model)\n",
        "    model.to(device)\n",
        "    \n",
        "    if n_class == 3:\n",
        "        criterion = nn.CrossEntropyLoss().to(device)\n",
        "    elif n_class == 1:\n",
        "        criterion = nn.BCELoss().to(device)\n",
        "    optimizer= torch.optim.SGD(model.parameters(), lr=1e-3)\n",
        "    \n",
        "    for epoch in range(epochs):\n",
        "        start = time.time()\n",
        "        \n",
        "        # train\n",
        "        train_loss = 0\n",
        "        for idx, data in enumerate(tr_loader):\n",
        "            model.train()\n",
        "            optimizer.zero_grad()\n",
        "            \n",
        "            images = data['image'].to(device)\n",
        "            label = data['label'].to(device)\n",
        "            \n",
        "            output = model(images)\n",
        "            loss = criterion(output, label)\n",
        "             \n",
        "            loss.backward()\n",
        "            optimizer.step()\n",
        "            \n",
        "            train_loss += loss.item()\n",
        "            \n",
        "        # validation\n",
        "        val_loss = 0\n",
        "        acc = 0\n",
        "        total = 0\n",
        "        with torch.no_grad():\n",
        "            for i, val_data in enumerate(val_loader):\n",
        "                model.eval()\n",
        "                val_images = val_data['image'].to(device)\n",
        "                val_label = val_data['label'].to(device)\n",
        "\n",
        "                val_output = model(val_images)\n",
        "                validation_loss = criterion(val_output, val_label)\n",
        "                val_loss += validation_loss.item()\n",
        "                \n",
        "                if n_class == 3:\n",
        "                    acc += (torch.argmax(val_output, dim=1) == val_label).sum().item()\n",
        "                elif n_class == 1:\n",
        "                    acc += ((val_output > 0.5)==val_label).sum().item()\n",
        "                total += val_label.size(0)\n",
        "            \n",
        "        print(f'epoch : {epoch}, elapsed time : {time.time()-start}')\n",
        "        print(f'loss : {train_loss/len(tr_loader)}, val_loss : {val_loss/len(val_loader)}, acc : {acc/total*100}')\n",
        "        \n",
        "        if (train_loss / len(tr_loader)) < min_loss:\n",
        "            torch.save(model.module.state_dict(), param_path)\n",
        "        \n",
        "        # early stopping\n",
        "        early_stopping(val_loss)\n",
        "        if early_stopping.early_stop:\n",
        "            print('')\n",
        "            print('Early stopping')\n",
        "            break"
      ]
    },
    {
      "cell_type": "code",
      "execution_count": null,
      "id": "e04caeb3-671d-451a-9a8d-a42c7fb446a9",
      "metadata": {
        "id": "e04caeb3-671d-451a-9a8d-a42c7fb446a9"
      },
      "outputs": [],
      "source": [
        "epoch = 400\n",
        "# (512, 512) 크기에서 batch size 100개 정도 가능\n",
        "batch_size = 32\n",
        "size = (512, 512)\n",
        "# model_num - 0 : vgg19, 1 : resnet34\n",
        "train_model_num = 0\n",
        "n_class = 1\n",
        "param_path = './param_' + 'class_' + str(n_class)\n",
        "\n",
        "augment = select_aug(['ColorJitter', 'GaussianBlur', 'RandomCrop'])\n",
        "\n",
        "tr_set = DCMdataset('/tf/0.DATA/data/train.csv', size, n_class, augment=augment)\n",
        "val_set = DCMdataset('/tf/0.DATA/data/val.csv', size, n_class)\n",
        "te_set = DCMdataset('/tf/0.DATA/data/train.csv', size, n_class)\n",
        "\n",
        "tr_loader = DataLoader(tr_set, batch_size=batch_size, shuffle=True, num_workers=4, drop_last=True)\n",
        "val_loader = DataLoader(val_set, batch_size=batch_size, shuffle=True, num_workers=4, drop_last=True)\n",
        "te_loader = DataLoader(te_set, batch_size=batch_size, shuffle=True, num_workers=4, drop_last=True)"
      ]
    },
    {
      "cell_type": "code",
      "execution_count": null,
      "id": "a163cbe5-636d-4b66-a76c-ee01a6da5c14",
      "metadata": {
        "id": "a163cbe5-636d-4b66-a76c-ee01a6da5c14"
      },
      "outputs": [],
      "source": [
        "train(tr_loader, val_loader, epoch, batch_size, param_path, train_model_num, n_class)"
      ]
    },
    {
      "cell_type": "markdown",
      "id": "008a76e6-1a32-49dd-a2c4-949d18236ef0",
      "metadata": {
        "id": "008a76e6-1a32-49dd-a2c4-949d18236ef0"
      },
      "source": [
        "Test "
      ]
    },
    {
      "cell_type": "code",
      "execution_count": null,
      "id": "6b0215ff-4169-460b-943f-0f1a9915c3e9",
      "metadata": {
        "id": "6b0215ff-4169-460b-943f-0f1a9915c3e9"
      },
      "outputs": [],
      "source": [
        "import torch\n",
        "torch.cuda.empty_cache()"
      ]
    },
    {
      "cell_type": "code",
      "execution_count": null,
      "id": "3bdbc0c0-0592-4dc1-bf4e-3a039b3bad2d",
      "metadata": {
        "id": "3bdbc0c0-0592-4dc1-bf4e-3a039b3bad2d",
        "outputId": "32351c9e-8534-4eee-cf07-5090c23c2782"
      },
      "outputs": [
        {
          "name": "stdout",
          "output_type": "stream",
          "text": [
            "0.7948717948717948\n",
            "[0.616      0.86005831]\n",
            "[[ True]\n",
            " [ True]\n",
            " [ True]\n",
            " ...\n",
            " [ True]\n",
            " [False]\n",
            " [ True]]\n",
            "[[1.]\n",
            " [1.]\n",
            " [1.]\n",
            " ...\n",
            " [0.]\n",
            " [0.]\n",
            " [1.]]\n"
          ]
        }
      ],
      "source": [
        "test_model_num = 0\n",
        "\n",
        "device = torch.device(\"cuda\" if torch.cuda.is_available() else 'cpu')\n",
        "test_model = vgg(test_model_num, n_class)\n",
        "test_model.load_state_dict(torch.load(param_path))\n",
        "\n",
        "test_model = nn.DataParallel(test_model)\n",
        "test_model.to(device)\n",
        "\n",
        "test_loss = []\n",
        "predict = []\n",
        "cl = []\n",
        "test_model.eval()\n",
        "for i, data in enumerate(te_loader):\n",
        "    if n_class == 3:\n",
        "        criterion = nn.CrossEntropyLoss().to(device)\n",
        "    elif n_class == 1:\n",
        "        criterion = nn.BCELoss().to(device)\n",
        "    \n",
        "    image = data['image'].to(device)\n",
        "    label = data['label'].to(device)\n",
        "    \n",
        "    with torch.no_grad():\n",
        "        output = test_model(image)\n",
        "    loss = criterion(output, label)\n",
        "    test_loss.append(loss)\n",
        "    \n",
        "    if n_class == 3:\n",
        "        tmp = torch.argmax(output, dim=1)\n",
        "    elif n_class == 1:\n",
        "        tmp = ((output > 0.5)==label)\n",
        "    tmp = tmp.detach().cpu().numpy()\n",
        "    label = label.detach().cpu().numpy()\n",
        "        \n",
        "    predict.extend(tmp)\n",
        "    cl.extend(label)\n",
        "\n",
        "predict = np.array(predict)\n",
        "cl = np.array(cl)\n",
        "\n",
        "acc = metrics.accuracy_score(cl, predict)\n",
        "f1 = metrics.f1_score(cl, predict, average=None)\n",
        "\n",
        "print(acc)\n",
        "print(f1)\n",
        "\n",
        "print(predict)\n",
        "print(cl)"
      ]
    },
    {
      "cell_type": "code",
      "execution_count": null,
      "id": "73b3b2a5-7e01-4e01-a56f-8bba9b41c2de",
      "metadata": {
        "id": "73b3b2a5-7e01-4e01-a56f-8bba9b41c2de",
        "outputId": "30dd4f40-24ca-4bb0-9c26-1e7cc199b0a3"
      },
      "outputs": [
        {
          "data": {
            "text/plain": [
              "tensor([[0.9375],\n",
              "        [0.6892],\n",
              "        [0.8847],\n",
              "        [0.8941],\n",
              "        [0.5208],\n",
              "        [0.5955],\n",
              "        [0.4736],\n",
              "        [0.9050],\n",
              "        [0.8570],\n",
              "        [0.5701],\n",
              "        [0.7738],\n",
              "        [0.7481],\n",
              "        [0.8859],\n",
              "        [0.8151],\n",
              "        [0.3382],\n",
              "        [0.7571],\n",
              "        [0.8325],\n",
              "        [0.4611],\n",
              "        [0.6754],\n",
              "        [0.6801],\n",
              "        [0.6707],\n",
              "        [0.3413],\n",
              "        [0.8035],\n",
              "        [0.3557],\n",
              "        [0.7647],\n",
              "        [0.4112],\n",
              "        [0.5573],\n",
              "        [0.5612],\n",
              "        [0.8344],\n",
              "        [0.3657],\n",
              "        [0.8743],\n",
              "        [0.5333]], device='cuda:0')"
            ]
          },
          "execution_count": 30,
          "metadata": {},
          "output_type": "execute_result"
        }
      ],
      "source": [
        "output"
      ]
    },
    {
      "cell_type": "markdown",
      "source": [
        "Evaluation"
      ],
      "metadata": {
        "id": "lmVpxiEbgXj2"
      },
      "id": "lmVpxiEbgXj2"
    },
    {
      "cell_type": "code",
      "execution_count": null,
      "id": "973a81eb-0ecb-49ad-aecb-62a2bc970cdb",
      "metadata": {
        "id": "973a81eb-0ecb-49ad-aecb-62a2bc970cdb",
        "outputId": "fffad30d-4799-45d2-80f9-bc4058a8b587"
      },
      "outputs": [
        {
          "data": {
            "text/html": [
              "<div>\n",
              "<style scoped>\n",
              "    .dataframe tbody tr th:only-of-type {\n",
              "        vertical-align: middle;\n",
              "    }\n",
              "\n",
              "    .dataframe tbody tr th {\n",
              "        vertical-align: top;\n",
              "    }\n",
              "\n",
              "    .dataframe thead th {\n",
              "        text-align: right;\n",
              "    }\n",
              "</style>\n",
              "<table border=\"1\" class=\"dataframe\">\n",
              "  <thead>\n",
              "    <tr style=\"text-align: right;\">\n",
              "      <th></th>\n",
              "      <th>precision</th>\n",
              "      <th>recall</th>\n",
              "      <th>f1-score</th>\n",
              "      <th>support</th>\n",
              "    </tr>\n",
              "  </thead>\n",
              "  <tbody>\n",
              "    <tr>\n",
              "      <th>negative</th>\n",
              "      <td>0.738609</td>\n",
              "      <td>0.528302</td>\n",
              "      <td>0.616000</td>\n",
              "      <td>1166.000000</td>\n",
              "    </tr>\n",
              "    <tr>\n",
              "      <th>positive</th>\n",
              "      <td>0.810997</td>\n",
              "      <td>0.915438</td>\n",
              "      <td>0.860058</td>\n",
              "      <td>2578.000000</td>\n",
              "    </tr>\n",
              "    <tr>\n",
              "      <th>accuracy</th>\n",
              "      <td>0.794872</td>\n",
              "      <td>0.794872</td>\n",
              "      <td>0.794872</td>\n",
              "      <td>0.794872</td>\n",
              "    </tr>\n",
              "    <tr>\n",
              "      <th>macro avg</th>\n",
              "      <td>0.774803</td>\n",
              "      <td>0.721870</td>\n",
              "      <td>0.738029</td>\n",
              "      <td>3744.000000</td>\n",
              "    </tr>\n",
              "    <tr>\n",
              "      <th>weighted avg</th>\n",
              "      <td>0.788453</td>\n",
              "      <td>0.794872</td>\n",
              "      <td>0.784051</td>\n",
              "      <td>3744.000000</td>\n",
              "    </tr>\n",
              "  </tbody>\n",
              "</table>\n",
              "</div>"
            ],
            "text/plain": [
              "              precision    recall  f1-score      support\n",
              "negative       0.738609  0.528302  0.616000  1166.000000\n",
              "positive       0.810997  0.915438  0.860058  2578.000000\n",
              "accuracy       0.794872  0.794872  0.794872     0.794872\n",
              "macro avg      0.774803  0.721870  0.738029  3744.000000\n",
              "weighted avg   0.788453  0.794872  0.784051  3744.000000"
            ]
          },
          "execution_count": 31,
          "metadata": {},
          "output_type": "execute_result"
        }
      ],
      "source": [
        "jtplot.style(theme='monokai', context='notebook', ticks=True, grid=False)\n",
        "\n",
        "if n_class == 1:\n",
        "    class_names = ['negative', 'positive']\n",
        "# elif n_class == 3:\n",
        "#     class_names = ['negative', 'typical', 'indeterminate']\n",
        "\n",
        "report = metrics.classification_report(cl, predict, output_dict=True, target_names=class_names)\n",
        "df = pd.DataFrame(report).transpose()\n",
        "df"
      ]
    },
    {
      "cell_type": "code",
      "execution_count": null,
      "id": "b8952425-8f75-471a-8740-e143f2a24a99",
      "metadata": {
        "id": "b8952425-8f75-471a-8740-e143f2a24a99",
        "outputId": "93704fd4-3336-4aeb-e5ed-7a36a50233ec"
      },
      "outputs": [
        {
          "data": {
            "image/png": "[encoded data removed]",
            "text/plain": [
              "<Figure size 720x504 with 2 Axes>"
            ]
          },
          "metadata": {},
          "output_type": "display_data"
        }
      ],
      "source": [
        "cf_matrix = confusion_matrix(cl, predict)\n",
        "df_cm = pd.DataFrame(cf_matrix, index=[i for i in class_names], columns=[i for i in class_names])\n",
        "\n",
        "fig = plt.figure(figsize=(10 ,7))\n",
        "seaborn.heatmap(df_cm, annot=True, fmt='d')\n",
        "plt.xlabel('predict')\n",
        "plt.ylabel('ground truth')\n",
        "plt.show()"
      ]
    }
  ],
  "metadata": {
    "kernelspec": {
      "display_name": "Python 3",
      "language": "python",
      "name": "python3"
    },
    "language_info": {
      "codemirror_mode": {
        "name": "ipython",
        "version": 3
      },
      "file_extension": ".py",
      "mimetype": "text/x-python",
      "name": "python",
      "nbconvert_exporter": "python",
      "pygments_lexer": "ipython3",
      "version": "3.8.0"
    },
    "colab": {
      "provenance": []
    }
  },
  "nbformat": 4,
  "nbformat_minor": 5
}