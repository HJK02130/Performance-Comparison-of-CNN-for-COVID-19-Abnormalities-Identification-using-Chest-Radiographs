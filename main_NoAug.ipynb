{
  "cells": [
    {
      "cell_type": "markdown",
      "source": [
        "Import"
      ],
      "metadata": {
        "id": "kjdzqwidekr-"
      },
      "id": "kjdzqwidekr-"
    },
    {
      "cell_type": "code",
      "execution_count": null,
      "id": "768ba32d-d440-41a4-8e9c-760f7b194a77",
      "metadata": {
        "id": "768ba32d-d440-41a4-8e9c-760f7b194a77"
      },
      "outputs": [],
      "source": [
        "import torch\n",
        "import torch.nn as nn\n",
        "import torch.nn.functional as F\n",
        "import torch.optim as optim\n",
        "from torchvision import models\n",
        "from torchvision import transforms\n",
        "from torch.utils.data import DataLoader\n",
        "from torch.utils.data import Dataset\n",
        "\n",
        "import cv2\n",
        "import numpy as np\n",
        "import pandas as pd\n",
        "import cv2\n",
        "import matplotlib.pyplot as plt\n",
        "import os\n",
        "import time\n",
        "\n",
        "import sklearn.metrics as metrics\n",
        "from sklearn.metrics import confusion_matrix\n",
        "import seaborn\n",
        "from jupyterthemes import jtplot\n",
        "\n",
        "os.environ['CUDA_VISIBLE_DEVICES'] = \"0, 1, 2, 3\""
      ]
    },
    {
      "cell_type": "markdown",
      "source": [
        "Load Data"
      ],
      "metadata": {
        "id": "2i9CHFzHemWX"
      },
      "id": "2i9CHFzHemWX"
    },
    {
      "cell_type": "code",
      "execution_count": null,
      "id": "199d166d-784c-4590-ab66-6d4256c5bf8a",
      "metadata": {
        "id": "199d166d-784c-4590-ab66-6d4256c5bf8a",
        "outputId": "cced12a2-7506-489e-dea9-f8d67f635846"
      },
      "outputs": [
        {
          "data": {
            "text/plain": [
              "\"\\npath = '/tf/0.DATA/data/train.csv'\\nsize= (512, 512)\\ndataset = DCMdataset(path, size)\\nloader = DataLoader(dataset, batch_size=1, shuffle=True)\\nfor idx, sample in enumerate(loader):\\n    print(sample['image'].shape)\\n    print(sample['label'].shape)\\n    \\n    print(sample['image'])\\n    print(sample['label'])\\n    \\n    plt.imshow(sample['image'][0].permute(1, 2, 0))\\n    break\\n    \""
            ]
          },
          "execution_count": 2,
          "metadata": {},
          "output_type": "execute_result"
        }
      ],
      "source": [
        "class DCMdataset(Dataset):\n",
        "    def __init__(self, filePath, size=(512, 512), n_class=1):\n",
        "        self.dataset = pd.read_csv(filePath)\n",
        "        self.size= size\n",
        "        self.n_class = n_class\n",
        "        \n",
        "    def __len__(self):\n",
        "        return len(self.dataset)\n",
        "    \n",
        "    def __getitem__(self, idx):\n",
        "        data = self.dataset.iloc[idx]\n",
        "        \n",
        "        base_path = '/tf/0.DATA/data/images'\n",
        "        image_path = data['image_id']\n",
        "        \n",
        "        image = np.load(os.path.join(base_path, image_path+'.npy')).astype(np.float32)\n",
        "        image = cv2.resize(image, self.size)\n",
        "        image = image / np.max(image)\n",
        "        image = cv2.cvtColor(image, cv2.COLOR_GRAY2RGB)\n",
        "        image = torch.Tensor(image).permute(2, 0, 1)\n",
        "\n",
        "        \n",
        "        if self.n_class == 3:\n",
        "            # 0 : negative / 1 : typical / 2 : determinate\n",
        "            if data['negative'] == 1:\n",
        "                label = 0\n",
        "            elif data['typical'] == 1:\n",
        "                label = 1\n",
        "            elif data['indeterminate'] == 1:\n",
        "                label = 2\n",
        "        elif self.n_class == 1:\n",
        "            # 1 : positive / 0 : negative\n",
        "            if np.array(data['negative']) == 1:\n",
        "                label = torch.Tensor([0.])\n",
        "            else:\n",
        "                label = torch.Tensor([1.])\n",
        "        \n",
        "        sample = {'image':image, 'label':label}\n",
        "        \n",
        "        return sample\n",
        "\n",
        "\n",
        "'''\n",
        "path = '/tf/0.DATA/data/train.csv'\n",
        "size= (512, 512)\n",
        "dataset = DCMdataset(path, size)\n",
        "loader = DataLoader(dataset, batch_size=1, shuffle=True)\n",
        "for idx, sample in enumerate(loader):\n",
        "    print(sample['image'].shape)\n",
        "    print(sample['label'].shape)\n",
        "    \n",
        "    print(sample['image'])\n",
        "    print(sample['label'])\n",
        "    \n",
        "    plt.imshow(sample['image'][0].permute(1, 2, 0))\n",
        "    break\n",
        "    '''"
      ]
    },
    {
      "cell_type": "markdown",
      "source": [
        "EarlyStopping"
      ],
      "metadata": {
        "id": "qW_kKKeqewm2"
      },
      "id": "qW_kKKeqewm2"
    },
    {
      "cell_type": "code",
      "execution_count": null,
      "id": "4e33cc86-02ef-41c9-b24c-c3fd6b9c981c",
      "metadata": {
        "id": "4e33cc86-02ef-41c9-b24c-c3fd6b9c981c"
      },
      "outputs": [],
      "source": [
        "class EarlyStopping:\n",
        "    \"\"\"Early stops the training if validation loss doesn't improve after a given patience.\"\"\"\n",
        "    def __init__(self, patience=7, verbose=False, delta=0, path='checkpoint.pt', trace_func=print):\n",
        "        \"\"\"\n",
        "        Args:\n",
        "            patience (int): How long to wait after last time validation loss improved.\n",
        "                            Default: 7\n",
        "            verbose (bool): If True, prints a message for each validation loss improvement. \n",
        "                            Default: False\n",
        "            delta (float): Minimum change in the monitored quantity to qualify as an improvement.\n",
        "                            Default: 0\n",
        "            path (str): Path for the checkpoint to be saved to.\n",
        "                            Default: 'checkpoint.pt'\n",
        "            trace_func (function): trace print function.\n",
        "                            Default: print            \n",
        "        \"\"\"\n",
        "        self.patience = patience\n",
        "        self.verbose = verbose\n",
        "        self.counter = 0\n",
        "        self.best_score = None\n",
        "        self.early_stop = False\n",
        "        self.val_loss_min = np.Inf\n",
        "        self.delta = delta\n",
        "        self.path = path\n",
        "        self.trace_func = trace_func\n",
        "    def __call__(self, val_loss):\n",
        "\n",
        "        score = -val_loss\n",
        "\n",
        "        if self.best_score is None:\n",
        "            self.best_score = score\n",
        "            self.val_loss_min = val_loss\n",
        "#             self.save_checkpoint(val_loss, model)\n",
        "        elif score < self.best_score + self.delta:\n",
        "            self.counter += 1\n",
        "            self.trace_func(f'EarlyStopping counter: {self.counter} out of {self.patience}')\n",
        "            if self.counter >= self.patience:\n",
        "                self.early_stop = True\n",
        "        else:\n",
        "            self.best_score = score\n",
        "            self.val_loss_min = val_loss\n",
        "#             self.save_checkpoint(val_loss, model)\n",
        "            self.counter = 0"
      ]
    },
    {
      "cell_type": "markdown",
      "source": [
        "Model"
      ],
      "metadata": {
        "id": "23zHajpYeyg-"
      },
      "id": "23zHajpYeyg-"
    },
    {
      "cell_type": "code",
      "execution_count": null,
      "id": "386405d3-012a-4fc7-96df-b703facb5e41",
      "metadata": {
        "id": "386405d3-012a-4fc7-96df-b703facb5e41",
        "outputId": "e4e799bb-6d6b-425a-dfa5-31558ce3a348"
      },
      "outputs": [
        {
          "data": {
            "text/plain": [
              "\"\\nn_class = 1\\nmodel = vgg(n_class)\\npath = '/tf/0.DATA/data/train.csv'\\nsize= (512, 512)\\ndataset = DCMdataset(path, size, n_class)\\nloader = DataLoader(dataset, batch_size=3, shuffle=True)\\n#cr = nn.CrossEntropyLoss()\\ncr = nn.BCELoss()\\nfor idx, sample in enumerate(loader):\\n    image = sample['image']\\n    label = sample['label']\\n    \\n    plt.imshow(image[0].permute(1, 2, 0))\\n    print('label = ', label)\\n    print('\\n')\\n    \\n    result = model(sample['image'])\\n    print('result = ', result)\\n    print('\\n')\\n    \\n    cr_result = cr(result, label)\\n    print('cr_result = ', cr_result)\\n    \\n    print(((result > 0.5) == label).sum())\\n    break\\n\""
            ]
          },
          "execution_count": 4,
          "metadata": {},
          "output_type": "execute_result"
        }
      ],
      "source": [
        "class vgg(nn.Module):\n",
        "    def __init__(self, model_num=0, n_class=1):\n",
        "        super().__init__()\n",
        "        \n",
        "        self.n_class = n_class\n",
        "        \n",
        "        # vgg19 or resnet34 or efficientnet\n",
        "        # model_num - 0 : vgg19, 1 : resnet34, else : efficientnet\n",
        "        if model_num == 0:\n",
        "            self.pretrained = models.vgg19(pretrained=True)\n",
        "        elif model_num == 1:\n",
        "            self.pretrained = models.resnet34(pretrained=True)\n",
        "        else:\n",
        "            self.pretrained = models.efficientnet_b4(pretrained=True)\n",
        "        \n",
        "        self.dense1 = nn.Linear(1000, 512)\n",
        "        self.dense2 = nn.Linear(512, self.n_class)\n",
        "        \n",
        "    def forward(self, x):\n",
        "        x = self.pretrained(x)\n",
        "        x = F.relu(self.dense1(x))\n",
        "        \n",
        "        if self.n_class == 1:\n",
        "            x = torch.sigmoid(self.dense2(x))\n",
        "        elif self.n_class == 3:\n",
        "            x = F.softmax(self.dense2(x), dim=1)\n",
        "        \n",
        "        return x\n",
        "\n",
        "'''\n",
        "n_class = 1\n",
        "model = vgg(n_class)\n",
        "path = '/tf/0.DATA/data/train.csv'\n",
        "size= (512, 512)\n",
        "dataset = DCMdataset(path, size, n_class)\n",
        "loader = DataLoader(dataset, batch_size=3, shuffle=True)\n",
        "#cr = nn.CrossEntropyLoss()\n",
        "cr = nn.BCELoss()\n",
        "for idx, sample in enumerate(loader):\n",
        "    image = sample['image']\n",
        "    label = sample['label']\n",
        "    \n",
        "    plt.imshow(image[0].permute(1, 2, 0))\n",
        "    print('label = ', label)\n",
        "    print('\\n')\n",
        "    \n",
        "    result = model(sample['image'])\n",
        "    print('result = ', result)\n",
        "    print('\\n')\n",
        "    \n",
        "    cr_result = cr(result, label)\n",
        "    print('cr_result = ', cr_result)\n",
        "    \n",
        "    print(((result > 0.5) == label).sum())\n",
        "    break\n",
        "'''"
      ]
    },
    {
      "cell_type": "markdown",
      "source": [
        "Train"
      ],
      "metadata": {
        "id": "M18iCWoBe03F"
      },
      "id": "M18iCWoBe03F"
    },
    {
      "cell_type": "code",
      "execution_count": null,
      "id": "b3ea539a-bb28-47e6-a5db-84d036db0f93",
      "metadata": {
        "id": "b3ea539a-bb28-47e6-a5db-84d036db0f93"
      },
      "outputs": [],
      "source": [
        "def train(tr_loader, val_loader, epochs, batch_size, param_path, model_num, n_class):\n",
        "    device = torch.device(\"cuda\" if torch.cuda.is_available() else 'cpu')\n",
        "    print('device : ', device)\n",
        "    \n",
        "    min_loss = float('inf')\n",
        "    early_stopping = EarlyStopping(patience=10)\n",
        "    \n",
        "    # model : vgg or efficientnet\n",
        "    model = vgg(model_num, n_class)\n",
        "    for param in model.pretrained.parameters():\n",
        "        param.requires_grad = False\n",
        "    \n",
        "    model = nn.DataParallel(model)\n",
        "    model.to(device)\n",
        "    \n",
        "    if n_class == 3:\n",
        "        criterion = nn.CrossEntropyLoss()\n",
        "    elif n_class == 1:\n",
        "        criterion = nn.BCELoss().to(device)\n",
        "    optimizer= torch.optim.Adam(model.parameters(), lr=1e-3)\n",
        "    \n",
        "    for epoch in range(epochs):\n",
        "        start = time.time()\n",
        "        \n",
        "        # train\n",
        "        train_loss = 0\n",
        "        for idx, data in enumerate(tr_loader):\n",
        "            model.train()\n",
        "            optimizer.zero_grad()\n",
        "            \n",
        "            images = data['image'].float().to(device)\n",
        "            label = data['label'].long().to(device)\n",
        "            \n",
        "            output = model(images)\n",
        "            loss = criterion(output.to(torch.float32), label.to(torch.float32))\n",
        "             \n",
        "            loss.backward()\n",
        "            optimizer.step()\n",
        "            \n",
        "            train_loss += loss.item()\n",
        "            \n",
        "        # validation\n",
        "        val_loss = 0\n",
        "        acc = 0\n",
        "        total = 0\n",
        "        with torch.no_grad():\n",
        "            for i, val_data in enumerate(val_loader):\n",
        "                model.eval()\n",
        "                val_images = val_data['image'].to(device)\n",
        "                val_label = val_data['label'].to(device)\n",
        "\n",
        "                val_output = model(val_images)\n",
        "                validation_loss = criterion(val_output, val_label)\n",
        "                val_loss += validation_loss.item()\n",
        "                \n",
        "                if n_class == 3:\n",
        "                    acc += (torch.argmax(val_output, dim=1) == val_label).sum().item()\n",
        "                elif n_class == 1:\n",
        "                    acc += ((val_output > 0.5)==val_label).sum().item()\n",
        "                total += val_label.size(0)\n",
        "            \n",
        "        print(f'epoch : {epoch}, elapsed time : {time.time()-start}')\n",
        "        print(f'loss : {train_loss/len(tr_loader)}, val_loss : {val_loss/len(val_loader)}, acc : {acc/total*100}')\n",
        "        \n",
        "        if (train_loss / len(tr_loader)) < min_loss:\n",
        "            torch.save(model.module.state_dict(), param_path)\n",
        "        \n",
        "        # early stopping\n",
        "        early_stopping(val_loss)\n",
        "        if early_stopping.early_stop:\n",
        "            print('')\n",
        "            print('Early stopping')\n",
        "            break"
      ]
    },
    {
      "cell_type": "code",
      "execution_count": null,
      "id": "e04caeb3-671d-451a-9a8d-a42c7fb446a9",
      "metadata": {
        "id": "e04caeb3-671d-451a-9a8d-a42c7fb446a9"
      },
      "outputs": [],
      "source": [
        "epoch = 400\n",
        "# (512, 512) 크기에서 batch size 100개 정도 가능\n",
        "batch_size = 32\n",
        "size = (512, 512)\n",
        "# model_num - 0 : vgg19, 1 : resnet34\n",
        "train_model_num = 0\n",
        "# n_class - 1 or 3\n",
        "n_class = 1\n",
        "param_path = './param_' + 'class_' + str(n_class)\n",
        "\n",
        "tr_set = DCMdataset('/tf/0.DATA/data/train.csv', size, n_class)\n",
        "val_set = DCMdataset('/tf/0.DATA/data/val.csv', size, n_class)\n",
        "te_set = DCMdataset('/tf/0.DATA/data/train.csv', size, n_class)\n",
        "\n",
        "tr_loader = DataLoader(tr_set, batch_size=batch_size, shuffle=True, num_workers=4, drop_last=True)\n",
        "val_loader = DataLoader(val_set, batch_size=batch_size, shuffle=True, num_workers=4)\n",
        "te_loader = DataLoader(te_set, batch_size=batch_size, shuffle=True, num_workers=4)"
      ]
    },
    {
      "cell_type": "code",
      "execution_count": null,
      "id": "a163cbe5-636d-4b66-a76c-ee01a6da5c14",
      "metadata": {
        "id": "a163cbe5-636d-4b66-a76c-ee01a6da5c14",
        "outputId": "fd61a4cc-6cc4-4691-f8f8-44b3880b93fe"
      },
      "outputs": [
        {
          "name": "stdout",
          "output_type": "stream",
          "text": [
            "device :  cuda\n",
            "epoch : 0, elapsed time : 45.064704179763794\n",
            "loss : 0.5720331439605126, val_loss : 0.5157262772321701, acc : 75.9318423855165\n",
            "epoch : 1, elapsed time : 45.213207483291626\n",
            "loss : 0.5180163727356837, val_loss : 0.4989526639382044, acc : 76.6773162939297\n",
            "epoch : 2, elapsed time : 45.610753774642944\n",
            "loss : 0.5023251163144397, val_loss : 0.4963633547226588, acc : 75.82534611288605\n",
            "epoch : 3, elapsed time : 45.72973871231079\n",
            "loss : 0.4931384060117934, val_loss : 0.48793247739473977, acc : 77.10330138445154\n",
            "epoch : 4, elapsed time : 45.65999460220337\n",
            "loss : 0.4973413213195964, val_loss : 0.4797019014755885, acc : 76.78381256656017\n",
            "epoch : 5, elapsed time : 45.87960696220398\n",
            "loss : 0.4915378822220696, val_loss : 0.4680297156174978, acc : 77.42279020234292\n",
            "epoch : 6, elapsed time : 45.59470224380493\n",
            "loss : 0.4806827895152263, val_loss : 0.4718659907579422, acc : 77.10330138445154\n",
            "EarlyStopping counter: 1 out of 10\n",
            "epoch : 7, elapsed time : 45.32399225234985\n",
            "loss : 0.4790122898725363, val_loss : 0.4792614410320918, acc : 76.99680511182109\n",
            "EarlyStopping counter: 2 out of 10\n",
            "epoch : 8, elapsed time : 45.62153077125549\n",
            "loss : 0.4737166724143884, val_loss : 0.4605044096708298, acc : 78.06176783812566\n",
            "epoch : 9, elapsed time : 45.51960563659668\n",
            "loss : 0.48384746654420835, val_loss : 0.4741077224413554, acc : 77.63578274760383\n",
            "EarlyStopping counter: 1 out of 10\n",
            "epoch : 10, elapsed time : 45.41304540634155\n",
            "loss : 0.4788209755196531, val_loss : 0.4645082841316859, acc : 77.95527156549521\n",
            "EarlyStopping counter: 2 out of 10\n",
            "epoch : 11, elapsed time : 45.43027138710022\n",
            "loss : 0.48461006314326555, val_loss : 0.47141602287689843, acc : 78.27476038338658\n",
            "EarlyStopping counter: 3 out of 10\n",
            "epoch : 12, elapsed time : 45.785674810409546\n",
            "loss : 0.470658361657053, val_loss : 0.4709465424219767, acc : 77.63578274760383\n",
            "EarlyStopping counter: 4 out of 10\n",
            "epoch : 13, elapsed time : 45.14387130737305\n",
            "loss : 0.4733060830169254, val_loss : 0.4736925373474757, acc : 78.27476038338658\n",
            "EarlyStopping counter: 5 out of 10\n",
            "epoch : 14, elapsed time : 45.94558548927307\n",
            "loss : 0.47643900299683595, val_loss : 0.47202013731002807, acc : 77.63578274760383\n",
            "EarlyStopping counter: 6 out of 10\n",
            "epoch : 15, elapsed time : 45.665152072906494\n",
            "loss : 0.47272079953780544, val_loss : 0.46671229898929595, acc : 77.63578274760383\n",
            "EarlyStopping counter: 7 out of 10\n",
            "epoch : 16, elapsed time : 45.56856870651245\n",
            "loss : 0.4654438765639933, val_loss : 0.48100569943586985, acc : 76.78381256656017\n",
            "EarlyStopping counter: 8 out of 10\n",
            "epoch : 17, elapsed time : 45.094414472579956\n",
            "loss : 0.4752279387580024, val_loss : 0.46779640118281046, acc : 78.91373801916933\n",
            "EarlyStopping counter: 9 out of 10\n",
            "epoch : 18, elapsed time : 45.37774682044983\n",
            "loss : 0.4720545976589888, val_loss : 0.4645031452178955, acc : 78.59424920127796\n",
            "EarlyStopping counter: 10 out of 10\n",
            "\n",
            "Early stopping\n"
          ]
        }
      ],
      "source": [
        "train(tr_loader, val_loader, epoch, batch_size, param_path, train_model_num, n_class)"
      ]
    },
    {
      "cell_type": "markdown",
      "source": [
        "Test"
      ],
      "metadata": {
        "id": "AgMJJ7bSfC6P"
      },
      "id": "AgMJJ7bSfC6P"
    },
    {
      "cell_type": "code",
      "execution_count": null,
      "id": "3bdbc0c0-0592-4dc1-bf4e-3a039b3bad2d",
      "metadata": {
        "id": "3bdbc0c0-0592-4dc1-bf4e-3a039b3bad2d",
        "outputId": "eb350602-3209-4dbb-875f-9ef31f183b1f"
      },
      "outputs": [
        {
          "name": "stdout",
          "output_type": "stream",
          "text": [
            "0.7581716715386659\n",
            "[0.51492537 0.83893805]\n",
            "[[ True]\n",
            " [ True]\n",
            " [ True]\n",
            " ...\n",
            " [ True]\n",
            " [False]\n",
            " [ True]]\n",
            "[[1.]\n",
            " [1.]\n",
            " [0.]\n",
            " ...\n",
            " [1.]\n",
            " [1.]\n",
            " [0.]]\n"
          ]
        }
      ],
      "source": [
        "test_model_num = 0\n",
        "\n",
        "device = torch.device(\"cuda\" if torch.cuda.is_available() else 'cpu')\n",
        "#test_model = vgg(test_model_num, n_class)\n",
        "test_model = vgg(0, 1)\n",
        "test_model.load_state_dict(torch.load(param_path))\n",
        "\n",
        "test_model = nn.DataParallel(test_model)\n",
        "test_model.to(device)\n",
        "\n",
        "test_loss = []\n",
        "predict = []\n",
        "cl = []\n",
        "test_model.eval()\n",
        "for i, data in enumerate(te_loader):\n",
        "    if n_class == 3:\n",
        "        criterion = nn.CrossEntropyLoss().to(device)\n",
        "    elif n_class == 1:\n",
        "        criterion = nn.BCELoss().to(device)\n",
        "    \n",
        "    image = data['image'].to(device)\n",
        "    label = data['label'].to(device)\n",
        "    \n",
        "    with torch.no_grad():\n",
        "        output = test_model(image)\n",
        "    loss = criterion(output, label)\n",
        "    test_loss.append(loss)\n",
        "    \n",
        "    if n_class == 3:\n",
        "        tmp = torch.argmax(output, dim=1)\n",
        "    elif n_class == 1:\n",
        "        tmp = ((output > 0.5)==label)\n",
        "    tmp = tmp.detach().cpu().numpy()\n",
        "    label = label.detach().cpu().numpy()\n",
        "        \n",
        "    predict.extend(tmp)\n",
        "    cl.extend(label)\n",
        "\n",
        "predict = np.array(predict)\n",
        "cl = np.array(cl)\n",
        "\n",
        "acc = metrics.accuracy_score(cl, predict)\n",
        "f1 = metrics.f1_score(cl, predict, average=None)\n",
        "\n",
        "print(acc)\n",
        "print(f1)\n",
        "\n",
        "print(predict)\n",
        "print(cl)"
      ]
    },
    {
      "cell_type": "code",
      "execution_count": null,
      "id": "cbf92fe3-2f4e-4489-a334-e01de927c9fa",
      "metadata": {
        "id": "cbf92fe3-2f4e-4489-a334-e01de927c9fa",
        "outputId": "5d30124e-a153-4c14-ba31-40093530f700"
      },
      "outputs": [
        {
          "data": {
            "text/plain": [
              "tensor([[0.9892],\n",
              "        [0.2801],\n",
              "        [0.8435],\n",
              "        [0.8710],\n",
              "        [0.4752],\n",
              "        [0.9382],\n",
              "        [0.3716],\n",
              "        [0.9764],\n",
              "        [0.2697],\n",
              "        [0.9810],\n",
              "        [0.9812],\n",
              "        [0.8429],\n",
              "        [0.9013],\n",
              "        [0.9823],\n",
              "        [0.9249],\n",
              "        [0.8538],\n",
              "        [0.9656],\n",
              "        [0.3585],\n",
              "        [0.4397]], device='cuda:0')"
            ]
          },
          "execution_count": 17,
          "metadata": {},
          "output_type": "execute_result"
        }
      ],
      "source": [
        "output"
      ]
    },
    {
      "cell_type": "markdown",
      "source": [
        "Evaluation"
      ],
      "metadata": {
        "id": "To3mfVAdfSW3"
      },
      "id": "To3mfVAdfSW3"
    },
    {
      "cell_type": "code",
      "execution_count": null,
      "id": "973a81eb-0ecb-49ad-aecb-62a2bc970cdb",
      "metadata": {
        "id": "973a81eb-0ecb-49ad-aecb-62a2bc970cdb",
        "outputId": "ab4d3a71-d3d9-4a02-b745-95e2d36b6175"
      },
      "outputs": [
        {
          "data": {
            "text/html": [
              "<div>\n",
              "<style scoped>\n",
              "    .dataframe tbody tr th:only-of-type {\n",
              "        vertical-align: middle;\n",
              "    }\n",
              "\n",
              "    .dataframe tbody tr th {\n",
              "        vertical-align: top;\n",
              "    }\n",
              "\n",
              "    .dataframe thead th {\n",
              "        text-align: right;\n",
              "    }\n",
              "</style>\n",
              "<table border=\"1\" class=\"dataframe\">\n",
              "  <thead>\n",
              "    <tr style=\"text-align: right;\">\n",
              "      <th></th>\n",
              "      <th>precision</th>\n",
              "      <th>recall</th>\n",
              "      <th>f1-score</th>\n",
              "      <th>support</th>\n",
              "    </tr>\n",
              "  </thead>\n",
              "  <tbody>\n",
              "    <tr>\n",
              "      <th>negative</th>\n",
              "      <td>0.683168</td>\n",
              "      <td>0.413174</td>\n",
              "      <td>0.514925</td>\n",
              "      <td>1169.000000</td>\n",
              "    </tr>\n",
              "    <tr>\n",
              "      <th>positive</th>\n",
              "      <td>0.775524</td>\n",
              "      <td>0.913647</td>\n",
              "      <td>0.838938</td>\n",
              "      <td>2594.000000</td>\n",
              "    </tr>\n",
              "    <tr>\n",
              "      <th>accuracy</th>\n",
              "      <td>0.758172</td>\n",
              "      <td>0.758172</td>\n",
              "      <td>0.758172</td>\n",
              "      <td>0.758172</td>\n",
              "    </tr>\n",
              "    <tr>\n",
              "      <th>macro avg</th>\n",
              "      <td>0.729346</td>\n",
              "      <td>0.663410</td>\n",
              "      <td>0.676932</td>\n",
              "      <td>3763.000000</td>\n",
              "    </tr>\n",
              "    <tr>\n",
              "      <th>weighted avg</th>\n",
              "      <td>0.746833</td>\n",
              "      <td>0.758172</td>\n",
              "      <td>0.738281</td>\n",
              "      <td>3763.000000</td>\n",
              "    </tr>\n",
              "  </tbody>\n",
              "</table>\n",
              "</div>"
            ],
            "text/plain": [
              "              precision    recall  f1-score      support\n",
              "negative       0.683168  0.413174  0.514925  1169.000000\n",
              "positive       0.775524  0.913647  0.838938  2594.000000\n",
              "accuracy       0.758172  0.758172  0.758172     0.758172\n",
              "macro avg      0.729346  0.663410  0.676932  3763.000000\n",
              "weighted avg   0.746833  0.758172  0.738281  3763.000000"
            ]
          },
          "execution_count": 18,
          "metadata": {},
          "output_type": "execute_result"
        }
      ],
      "source": [
        "jtplot.style(theme='monokai', context='notebook', ticks=True, grid=False)\n",
        "\n",
        "if n_class == 1:\n",
        "    class_names = ['negative', 'positive']\n",
        "elif n_class == 3:\n",
        "    class_names = ['negative', 'typical', 'indeterminate']\n",
        "\n",
        "report = metrics.classification_report(cl, predict, output_dict=True, target_names=class_names)\n",
        "df = pd.DataFrame(report).transpose()\n",
        "df"
      ]
    },
    {
      "cell_type": "code",
      "execution_count": null,
      "id": "b8952425-8f75-471a-8740-e143f2a24a99",
      "metadata": {
        "id": "b8952425-8f75-471a-8740-e143f2a24a99",
        "outputId": "3147448e-ddaa-4a71-b737-6f46ac1cd85e"
      },
      "outputs": [
        {
          "data": {
            "image/png": "[encoded data removed]",
            "text/plain": [
              "<Figure size 720x504 with 2 Axes>"
            ]
          },
          "metadata": {},
          "output_type": "display_data"
        }
      ],
      "source": [
        "cf_matrix = confusion_matrix(cl, predict)\n",
        "df_cm = pd.DataFrame(cf_matrix, index=[i for i in class_names], columns=[i for i in class_names])\n",
        "\n",
        "fig = plt.figure(figsize=(10 ,7))\n",
        "seaborn.heatmap(df_cm, annot=True, fmt='d')\n",
        "plt.xlabel('predict')\n",
        "plt.ylabel('ground truth')\n",
        "plt.show()"
      ]
    }
  ],
  "metadata": {
    "kernelspec": {
      "display_name": "Python 3",
      "language": "python",
      "name": "python3"
    },
    "language_info": {
      "codemirror_mode": {
        "name": "ipython",
        "version": 3
      },
      "file_extension": ".py",
      "mimetype": "text/x-python",
      "name": "python",
      "nbconvert_exporter": "python",
      "pygments_lexer": "ipython3",
      "version": "3.8.0"
    },
    "colab": {
      "provenance": []
    }
  },
  "nbformat": 4,
  "nbformat_minor": 5
}